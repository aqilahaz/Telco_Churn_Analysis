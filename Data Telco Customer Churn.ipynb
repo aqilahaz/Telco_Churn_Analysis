{
 "cells": [
  {
   "cell_type": "markdown",
   "id": "cfbf3d72",
   "metadata": {},
   "source": [
    "# Data Telco Customer Churn"
   ]
  },
  {
   "cell_type": "markdown",
   "id": "baacae7c",
   "metadata": {},
   "source": [
    "CREATED BY: AQILAH AINI ZAHRA"
   ]
  },
  {
   "cell_type": "markdown",
   "id": "b47eab15",
   "metadata": {},
   "source": [
    "1. Permasalahan bisnis yang dihadapi\n",
    "2. Tujuan yang ingin dicapai\n",
    "3. Analytic Approach yang dilakukan ( regresi / klasifikasi)\n",
    "4. Evaluation metric yang difokuskan\n",
    "5. Metode Preprocessing\n",
    "6. Penjelasan Cara Kerja algoritme\n",
    "7. Kesimpulan dan rekomendasi terkait proyek yang sudah diselesaikan"
   ]
  },
  {
   "cell_type": "markdown",
   "id": "9eb927c3",
   "metadata": {},
   "source": [
    "## Business Problem Understanding"
   ]
  },
  {
   "cell_type": "markdown",
   "id": "fa67a4ef",
   "metadata": {},
   "source": [
    "**Context**  \n",
    "Sebuah perusahaan yang bergerak di bidang Telekomunikasi ingin mencari tahu seberapa besar prediksi customer churn atau tingkat pelanggan berhenti berlangganan pada layanan telekomunikasi perusahaan tersebut. Hal ini diperlukan untuk dapat membuat strategi bagaimana mempertahankan customer secara efektif dan efisien berdasarkan data-data yang sudah ada. \n",
    "\n",
    "Target :\n",
    "\n",
    "No (0) : Tidak berhenti berlangganan\n",
    "\n",
    "Yes (1) : Berhenti berlangganan/Churn"
   ]
  },
  {
   "cell_type": "markdown",
   "id": "6dc84d7f",
   "metadata": {},
   "source": [
    "**Problem Statement :**\n",
    "\n",
    "Proses mendapatkan customer baru lebih mahal bila dibandingkan dengan mempertahankan customer yang sudah ada. Oleh karena itu memprediksi customer churn khususnya pada perusahaan telekomunikasi sangat penting dilakukan oleh perusahaan. Salah satunya dengan menggunakan model machine learning. Model ini akan mengeluarkan daftar customer yang rentan untuk churn, sehingga program retention dapat diprioritaskan untuk mereka. Tentu saja hal ini akan menghemat waktu dan biaya.\n",
    "\n",
    "**Goals :**\n",
    "Berdasarkan permasalahaan di atas, perusahaan ingin memiliki kemampuan untuk memprediksi kemungkinan seseorang akan melakukan churn atau tidak pada layanan telekomunikasi mereka. Dari hasil yang didapatkan perusahaan dapat mengetahui siapa saja orang yang rentan untuk melakukan churn dan mengetahui variabel apa yang membuat mereka melakukan churn atau berhenti berlangganan layanan telekomunikasi. \n",
    "Tujuannya untuk mengurangi tingkat churn, dan sebagai konsekuensinya meningkatkan kepuasan pengguna dan penghasilan perusahaan.\n",
    "\n",
    "**Analytic Approach :**\n",
    "\n",
    "Jadi yang akan kita lakukan adalah menganalisis data untuk menemukan pola yang membedakan kandidat yang akan berhenti berlangganan atau churn.\n",
    "Kemudian kita akan membangun model klasifikasi yang akan membantu perusahaan untuk dapat memprediksi probabilitas seorang kandidat akan melakukan churn atau tidak.\n",
    "Pada data terdapat tiga karakteristik: \n",
    "   1. informasi demografi : Dependents\n",
    "   2. informasi akun : Tenure, Contract, Paperless Billing, Monthlycharges\n",
    "   3. informasi layanan : Internet Service, OnlineSecurity, OnlineBackup, Device Protection, TechSupport\n",
    "   \n",
    "**Metric Evaluation**\n",
    "\n",
    "Type I Error: False Positive\n",
    "Konsekuensi: Perusahaan memperkirakan layanan berhenti padahal customer tidak berhenti berlangganan. Konsekuensinya customer akan kehilangan offer menarik dari perusahaan.\n",
    "\n",
    "Type II Error: False Negative\n",
    "Perusahaan memperkirakan customer loyal padahal akan churn.\n",
    "Konsekuensi: Perusahaan tidak akan terlalu kehilangan banyak uang ketika memberikan penawaran menarik atau diskon pada customer yang setia. Namun demikian, perusahaan akan kehilangan banyak uang ketika customer menghilang dan harus mengakuisisi customer yang lain. Sudah standar di perusahaan bahwa biaya mempertahankan customer (customer retention) lebih sedikit dibandingkan mengakuisisi customer. \n",
    "Oleh karena itu, metric yang akan kita fokuskan adalah **recall**.\n",
    "\n",
    "Recall = TP/TP+FN\n",
    "\n",
    "Recall memberikan ukuran proporsi customer churn yang berhasil kita temukan/prediksikan. Sehingga semakin sedikit False Negative yang kita miliki, maka akan lebih tinggi nilai Recall kita. "
   ]
  },
  {
   "cell_type": "markdown",
   "id": "5f766457",
   "metadata": {},
   "source": [
    "## Data Understanding"
   ]
  },
  {
   "cell_type": "markdown",
   "id": "1febf496",
   "metadata": {},
   "source": [
    "Dataset source: https://drive.google.com/file/d/1oB5uKtJr7dWcWr9Ld5ZFAuVkpV005ceH/view "
   ]
  },
  {
   "cell_type": "markdown",
   "id": "e757adb5",
   "metadata": {},
   "source": [
    "### Attribute Information\n",
    "\n",
    "| Attribute | Data Type, Length | Description |\n",
    "| --- | --- | --- |\n",
    "| Dependents | Object | Apakah klien memiliki tanggungan atau tidak |\n",
    "| tenure | int64 | Lama bulan customer bertahan untuk berlangganan di perusahaan |\n",
    "| OnlineSecurity | Object | Apakah klien memiliki keamanan online atau tidak |\n",
    "| OnlineBackup | Object | Apakah klien memiliki backup online atau tidak |\n",
    "| InternetService | Object | Apakah klien berlangganan dengan layanan internet atau tidak |\n",
    "| DeviceProtection | Object | Apakah klien memiliki perlindungan terhadap perangkat atau tidak |\n",
    "| TechSupport | Object | Apakah klien memiliki techsupport atau tidak |\n",
    "| Contract | Object | Tipe kontrak klien/customer |\n",
    "| PaperlessBilling | Object | Mengindikasikan apakah customer memiliki penagihan tanpa kertas atau tidak |\n",
    "| MonthlyCharges | float64 | Jumlah tagihan bulanan customer |\n",
    "| Churn | Object | Apakah customer berhenti berlangganan(churn) atau tidak |"
   ]
  },
  {
   "cell_type": "code",
   "execution_count": 1,
   "id": "c9bb2aff",
   "metadata": {},
   "outputs": [],
   "source": [
    "# Library\n",
    "\n",
    "import pandas as pd\n",
    "import numpy as np\n",
    "\n",
    "# Visualization\n",
    "import matplotlib.pyplot as plt\n",
    "import seaborn as sns\n",
    "from IPython.display import display\n",
    "import plotly.express as px\n",
    "\n",
    "# Feature Engineering\n",
    "from sklearn.pipeline import Pipeline\n",
    "from sklearn.impute import SimpleImputer\n",
    "from sklearn.preprocessing import OneHotEncoder, LabelEncoder, OrdinalEncoder\n",
    "from sklearn.compose import ColumnTransformer\n",
    "import category_encoders as ce\n",
    "import math\n",
    "from imblearn.over_sampling import RandomOverSampler, SMOTE\n",
    "\n",
    "# Model Selection\n",
    "from sklearn.preprocessing import MinMaxScaler\n",
    "from sklearn.linear_model import LogisticRegression\n",
    "from sklearn.tree import DecisionTreeClassifier\n",
    "from sklearn.model_selection import GridSearchCV,StratifiedKFold,train_test_split, cross_val_score\n",
    "from sklearn.metrics import classification_report, confusion_matrix\n",
    "from sklearn.neighbors import KNeighborsClassifier\n",
    "from sklearn.ensemble import RandomForestClassifier\n",
    "from sklearn.ensemble import AdaBoostClassifier\n",
    "from xgboost import XGBClassifier\n",
    "import lightgbm as lgb\n",
    "from sklearn.metrics import f1_score, accuracy_score, recall_score, precision_score\n",
    "from sklearn.metrics import roc_curve, roc_auc_score, plot_roc_curve\n",
    "from sklearn.model_selection import RepeatedStratifiedKFold\n",
    "from sklearn.model_selection import GridSearchCV\n",
    "\n",
    "# Imbalance Dataset\n",
    "from imblearn.pipeline import Pipeline\n",
    "from imblearn.over_sampling import RandomOverSampler\n",
    "\n",
    "# Ignore Warning\n",
    "import sys\n",
    "import warnings\n",
    "if not sys.warnoptions:\n",
    "    warnings.simplefilter(\"ignore\")\n",
    "\n",
    "# Set max columns\n",
    "pd.set_option('display.max_columns', None)"
   ]
  },
  {
   "cell_type": "code",
   "execution_count": 2,
   "id": "0d2bda13",
   "metadata": {},
   "outputs": [
    {
     "data": {
      "text/html": [
       "<div>\n",
       "<style scoped>\n",
       "    .dataframe tbody tr th:only-of-type {\n",
       "        vertical-align: middle;\n",
       "    }\n",
       "\n",
       "    .dataframe tbody tr th {\n",
       "        vertical-align: top;\n",
       "    }\n",
       "\n",
       "    .dataframe thead th {\n",
       "        text-align: right;\n",
       "    }\n",
       "</style>\n",
       "<table border=\"1\" class=\"dataframe\">\n",
       "  <thead>\n",
       "    <tr style=\"text-align: right;\">\n",
       "      <th></th>\n",
       "      <th>Dependents</th>\n",
       "      <th>tenure</th>\n",
       "      <th>OnlineSecurity</th>\n",
       "      <th>OnlineBackup</th>\n",
       "      <th>InternetService</th>\n",
       "      <th>DeviceProtection</th>\n",
       "      <th>TechSupport</th>\n",
       "      <th>Contract</th>\n",
       "      <th>PaperlessBilling</th>\n",
       "      <th>MonthlyCharges</th>\n",
       "      <th>Churn</th>\n",
       "    </tr>\n",
       "  </thead>\n",
       "  <tbody>\n",
       "    <tr>\n",
       "      <th>0</th>\n",
       "      <td>Yes</td>\n",
       "      <td>9</td>\n",
       "      <td>No</td>\n",
       "      <td>No</td>\n",
       "      <td>DSL</td>\n",
       "      <td>Yes</td>\n",
       "      <td>Yes</td>\n",
       "      <td>Month-to-month</td>\n",
       "      <td>Yes</td>\n",
       "      <td>72.90</td>\n",
       "      <td>Yes</td>\n",
       "    </tr>\n",
       "    <tr>\n",
       "      <th>1</th>\n",
       "      <td>No</td>\n",
       "      <td>14</td>\n",
       "      <td>No</td>\n",
       "      <td>Yes</td>\n",
       "      <td>Fiber optic</td>\n",
       "      <td>Yes</td>\n",
       "      <td>No</td>\n",
       "      <td>Month-to-month</td>\n",
       "      <td>Yes</td>\n",
       "      <td>82.65</td>\n",
       "      <td>No</td>\n",
       "    </tr>\n",
       "    <tr>\n",
       "      <th>2</th>\n",
       "      <td>No</td>\n",
       "      <td>64</td>\n",
       "      <td>Yes</td>\n",
       "      <td>No</td>\n",
       "      <td>DSL</td>\n",
       "      <td>Yes</td>\n",
       "      <td>Yes</td>\n",
       "      <td>Two year</td>\n",
       "      <td>No</td>\n",
       "      <td>47.85</td>\n",
       "      <td>Yes</td>\n",
       "    </tr>\n",
       "    <tr>\n",
       "      <th>3</th>\n",
       "      <td>No</td>\n",
       "      <td>72</td>\n",
       "      <td>Yes</td>\n",
       "      <td>Yes</td>\n",
       "      <td>DSL</td>\n",
       "      <td>Yes</td>\n",
       "      <td>Yes</td>\n",
       "      <td>Two year</td>\n",
       "      <td>No</td>\n",
       "      <td>69.65</td>\n",
       "      <td>No</td>\n",
       "    </tr>\n",
       "    <tr>\n",
       "      <th>4</th>\n",
       "      <td>No</td>\n",
       "      <td>3</td>\n",
       "      <td>No internet service</td>\n",
       "      <td>No internet service</td>\n",
       "      <td>No</td>\n",
       "      <td>No internet service</td>\n",
       "      <td>No internet service</td>\n",
       "      <td>Month-to-month</td>\n",
       "      <td>Yes</td>\n",
       "      <td>23.60</td>\n",
       "      <td>No</td>\n",
       "    </tr>\n",
       "  </tbody>\n",
       "</table>\n",
       "</div>"
      ],
      "text/plain": [
       "  Dependents  tenure       OnlineSecurity         OnlineBackup  \\\n",
       "0        Yes       9                   No                   No   \n",
       "1         No      14                   No                  Yes   \n",
       "2         No      64                  Yes                   No   \n",
       "3         No      72                  Yes                  Yes   \n",
       "4         No       3  No internet service  No internet service   \n",
       "\n",
       "  InternetService     DeviceProtection          TechSupport        Contract  \\\n",
       "0             DSL                  Yes                  Yes  Month-to-month   \n",
       "1     Fiber optic                  Yes                   No  Month-to-month   \n",
       "2             DSL                  Yes                  Yes        Two year   \n",
       "3             DSL                  Yes                  Yes        Two year   \n",
       "4              No  No internet service  No internet service  Month-to-month   \n",
       "\n",
       "  PaperlessBilling  MonthlyCharges Churn  \n",
       "0              Yes           72.90   Yes  \n",
       "1              Yes           82.65    No  \n",
       "2               No           47.85   Yes  \n",
       "3               No           69.65    No  \n",
       "4              Yes           23.60    No  "
      ]
     },
     "execution_count": 2,
     "metadata": {},
     "output_type": "execute_result"
    }
   ],
   "source": [
    "#Load Dataset\n",
    "df = pd.read_csv(\"data_telco_customer_churn.csv\")\n",
    "df.head()"
   ]
  },
  {
   "cell_type": "code",
   "execution_count": 3,
   "id": "e2d1b83e",
   "metadata": {},
   "outputs": [
    {
     "data": {
      "text/plain": [
       "No     3614\n",
       "Yes    1316\n",
       "Name: Churn, dtype: int64"
      ]
     },
     "execution_count": 3,
     "metadata": {},
     "output_type": "execute_result"
    }
   ],
   "source": [
    "df['Churn'].value_counts()"
   ]
  },
  {
   "cell_type": "code",
   "execution_count": 4,
   "id": "a5a32959",
   "metadata": {},
   "outputs": [
    {
     "name": "stdout",
     "output_type": "stream",
     "text": [
      "<class 'pandas.core.frame.DataFrame'>\n",
      "RangeIndex: 4930 entries, 0 to 4929\n",
      "Data columns (total 11 columns):\n",
      " #   Column            Non-Null Count  Dtype  \n",
      "---  ------            --------------  -----  \n",
      " 0   Dependents        4930 non-null   object \n",
      " 1   tenure            4930 non-null   int64  \n",
      " 2   OnlineSecurity    4930 non-null   object \n",
      " 3   OnlineBackup      4930 non-null   object \n",
      " 4   InternetService   4930 non-null   object \n",
      " 5   DeviceProtection  4930 non-null   object \n",
      " 6   TechSupport       4930 non-null   object \n",
      " 7   Contract          4930 non-null   object \n",
      " 8   PaperlessBilling  4930 non-null   object \n",
      " 9   MonthlyCharges    4930 non-null   float64\n",
      " 10  Churn             4930 non-null   object \n",
      "dtypes: float64(1), int64(1), object(9)\n",
      "memory usage: 423.8+ KB\n"
     ]
    }
   ],
   "source": [
    "df.info()"
   ]
  },
  {
   "cell_type": "markdown",
   "id": "75c22599",
   "metadata": {},
   "source": [
    "## Data Cleaning"
   ]
  },
  {
   "cell_type": "markdown",
   "id": "2bdf8f3a",
   "metadata": {},
   "source": [
    "Dari info di atas, diketahui bahwa tidak ada data yang hilang. Namun demikian, perlu diketahui bahwa banyak data yang masuk merupakan data binary atau trenary. Yakni berisi dua atau tiga value. Ini penting untuk dianalisis kembali. Kemudian terdapat beberapa kolom yang tidak penting untuk dianalisis. Kolom ini akan dicleansing hingga datanya menjadi siap pakai untuk melakukan analisa dan pembuatan machine learningnya."
   ]
  },
  {
   "cell_type": "code",
   "execution_count": 5,
   "id": "e8100dbd",
   "metadata": {},
   "outputs": [
    {
     "data": {
      "text/html": [
       "<div>\n",
       "<style scoped>\n",
       "    .dataframe tbody tr th:only-of-type {\n",
       "        vertical-align: middle;\n",
       "    }\n",
       "\n",
       "    .dataframe tbody tr th {\n",
       "        vertical-align: top;\n",
       "    }\n",
       "\n",
       "    .dataframe thead th {\n",
       "        text-align: right;\n",
       "    }\n",
       "</style>\n",
       "<table border=\"1\" class=\"dataframe\">\n",
       "  <thead>\n",
       "    <tr style=\"text-align: right;\">\n",
       "      <th></th>\n",
       "      <th>tenure</th>\n",
       "      <th>MonthlyCharges</th>\n",
       "    </tr>\n",
       "  </thead>\n",
       "  <tbody>\n",
       "    <tr>\n",
       "      <th>count</th>\n",
       "      <td>4930.000000</td>\n",
       "      <td>4930.000000</td>\n",
       "    </tr>\n",
       "    <tr>\n",
       "      <th>mean</th>\n",
       "      <td>32.401217</td>\n",
       "      <td>64.883032</td>\n",
       "    </tr>\n",
       "    <tr>\n",
       "      <th>std</th>\n",
       "      <td>24.501193</td>\n",
       "      <td>29.923960</td>\n",
       "    </tr>\n",
       "    <tr>\n",
       "      <th>min</th>\n",
       "      <td>0.000000</td>\n",
       "      <td>18.800000</td>\n",
       "    </tr>\n",
       "    <tr>\n",
       "      <th>25%</th>\n",
       "      <td>9.000000</td>\n",
       "      <td>37.050000</td>\n",
       "    </tr>\n",
       "    <tr>\n",
       "      <th>50%</th>\n",
       "      <td>29.000000</td>\n",
       "      <td>70.350000</td>\n",
       "    </tr>\n",
       "    <tr>\n",
       "      <th>75%</th>\n",
       "      <td>55.000000</td>\n",
       "      <td>89.850000</td>\n",
       "    </tr>\n",
       "    <tr>\n",
       "      <th>max</th>\n",
       "      <td>72.000000</td>\n",
       "      <td>118.650000</td>\n",
       "    </tr>\n",
       "  </tbody>\n",
       "</table>\n",
       "</div>"
      ],
      "text/plain": [
       "            tenure  MonthlyCharges\n",
       "count  4930.000000     4930.000000\n",
       "mean     32.401217       64.883032\n",
       "std      24.501193       29.923960\n",
       "min       0.000000       18.800000\n",
       "25%       9.000000       37.050000\n",
       "50%      29.000000       70.350000\n",
       "75%      55.000000       89.850000\n",
       "max      72.000000      118.650000"
      ]
     },
     "execution_count": 5,
     "metadata": {},
     "output_type": "execute_result"
    }
   ],
   "source": [
    "df.describe()"
   ]
  },
  {
   "cell_type": "code",
   "execution_count": 6,
   "id": "55474fee",
   "metadata": {},
   "outputs": [
    {
     "data": {
      "text/html": [
       "<div>\n",
       "<style scoped>\n",
       "    .dataframe tbody tr th:only-of-type {\n",
       "        vertical-align: middle;\n",
       "    }\n",
       "\n",
       "    .dataframe tbody tr th {\n",
       "        vertical-align: top;\n",
       "    }\n",
       "\n",
       "    .dataframe thead th {\n",
       "        text-align: right;\n",
       "    }\n",
       "</style>\n",
       "<table border=\"1\" class=\"dataframe\">\n",
       "  <thead>\n",
       "    <tr style=\"text-align: right;\">\n",
       "      <th></th>\n",
       "      <th>dataFeatures</th>\n",
       "      <th>dataType</th>\n",
       "      <th>null</th>\n",
       "      <th>nullPct</th>\n",
       "      <th>unique</th>\n",
       "      <th>uniqueSample</th>\n",
       "    </tr>\n",
       "  </thead>\n",
       "  <tbody>\n",
       "    <tr>\n",
       "      <th>0</th>\n",
       "      <td>Dependents</td>\n",
       "      <td>object</td>\n",
       "      <td>0</td>\n",
       "      <td>0.0</td>\n",
       "      <td>2</td>\n",
       "      <td>[Yes, No]</td>\n",
       "    </tr>\n",
       "    <tr>\n",
       "      <th>1</th>\n",
       "      <td>tenure</td>\n",
       "      <td>int64</td>\n",
       "      <td>0</td>\n",
       "      <td>0.0</td>\n",
       "      <td>73</td>\n",
       "      <td>[35, 39]</td>\n",
       "    </tr>\n",
       "    <tr>\n",
       "      <th>2</th>\n",
       "      <td>OnlineSecurity</td>\n",
       "      <td>object</td>\n",
       "      <td>0</td>\n",
       "      <td>0.0</td>\n",
       "      <td>3</td>\n",
       "      <td>[No, Yes]</td>\n",
       "    </tr>\n",
       "    <tr>\n",
       "      <th>3</th>\n",
       "      <td>OnlineBackup</td>\n",
       "      <td>object</td>\n",
       "      <td>0</td>\n",
       "      <td>0.0</td>\n",
       "      <td>3</td>\n",
       "      <td>[Yes, No]</td>\n",
       "    </tr>\n",
       "    <tr>\n",
       "      <th>4</th>\n",
       "      <td>InternetService</td>\n",
       "      <td>object</td>\n",
       "      <td>0</td>\n",
       "      <td>0.0</td>\n",
       "      <td>3</td>\n",
       "      <td>[No, DSL]</td>\n",
       "    </tr>\n",
       "    <tr>\n",
       "      <th>5</th>\n",
       "      <td>DeviceProtection</td>\n",
       "      <td>object</td>\n",
       "      <td>0</td>\n",
       "      <td>0.0</td>\n",
       "      <td>3</td>\n",
       "      <td>[Yes, No internet service]</td>\n",
       "    </tr>\n",
       "    <tr>\n",
       "      <th>6</th>\n",
       "      <td>TechSupport</td>\n",
       "      <td>object</td>\n",
       "      <td>0</td>\n",
       "      <td>0.0</td>\n",
       "      <td>3</td>\n",
       "      <td>[No, No internet service]</td>\n",
       "    </tr>\n",
       "    <tr>\n",
       "      <th>7</th>\n",
       "      <td>Contract</td>\n",
       "      <td>object</td>\n",
       "      <td>0</td>\n",
       "      <td>0.0</td>\n",
       "      <td>3</td>\n",
       "      <td>[Two year, One year]</td>\n",
       "    </tr>\n",
       "    <tr>\n",
       "      <th>8</th>\n",
       "      <td>PaperlessBilling</td>\n",
       "      <td>object</td>\n",
       "      <td>0</td>\n",
       "      <td>0.0</td>\n",
       "      <td>2</td>\n",
       "      <td>[Yes, No]</td>\n",
       "    </tr>\n",
       "    <tr>\n",
       "      <th>9</th>\n",
       "      <td>MonthlyCharges</td>\n",
       "      <td>float64</td>\n",
       "      <td>0</td>\n",
       "      <td>0.0</td>\n",
       "      <td>1422</td>\n",
       "      <td>[110.2, 61.65]</td>\n",
       "    </tr>\n",
       "    <tr>\n",
       "      <th>10</th>\n",
       "      <td>Churn</td>\n",
       "      <td>object</td>\n",
       "      <td>0</td>\n",
       "      <td>0.0</td>\n",
       "      <td>2</td>\n",
       "      <td>[Yes, No]</td>\n",
       "    </tr>\n",
       "  </tbody>\n",
       "</table>\n",
       "</div>"
      ],
      "text/plain": [
       "        dataFeatures dataType  null  nullPct  unique  \\\n",
       "0         Dependents   object     0      0.0       2   \n",
       "1             tenure    int64     0      0.0      73   \n",
       "2     OnlineSecurity   object     0      0.0       3   \n",
       "3       OnlineBackup   object     0      0.0       3   \n",
       "4    InternetService   object     0      0.0       3   \n",
       "5   DeviceProtection   object     0      0.0       3   \n",
       "6        TechSupport   object     0      0.0       3   \n",
       "7           Contract   object     0      0.0       3   \n",
       "8   PaperlessBilling   object     0      0.0       2   \n",
       "9     MonthlyCharges  float64     0      0.0    1422   \n",
       "10             Churn   object     0      0.0       2   \n",
       "\n",
       "                  uniqueSample  \n",
       "0                    [Yes, No]  \n",
       "1                     [35, 39]  \n",
       "2                    [No, Yes]  \n",
       "3                    [Yes, No]  \n",
       "4                    [No, DSL]  \n",
       "5   [Yes, No internet service]  \n",
       "6    [No, No internet service]  \n",
       "7         [Two year, One year]  \n",
       "8                    [Yes, No]  \n",
       "9               [110.2, 61.65]  \n",
       "10                   [Yes, No]  "
      ]
     },
     "execution_count": 6,
     "metadata": {},
     "output_type": "execute_result"
    }
   ],
   "source": [
    "listItem = []\n",
    "for col in df.columns :\n",
    "    listItem.append([col, df[col].dtype, df[col].isna().sum(), round((df[col].isna().sum()/len(df[col])) * 100,2),\n",
    "                    df[col].nunique(), list(df[col].drop_duplicates().sample(2).values)]);\n",
    "\n",
    "dfDesc = pd.DataFrame(columns=['dataFeatures', 'dataType', 'null', 'nullPct', 'unique', 'uniqueSample'],\n",
    "                     data=listItem)\n",
    "dfDesc"
   ]
  },
  {
   "cell_type": "code",
   "execution_count": 7,
   "id": "a0ef6247",
   "metadata": {},
   "outputs": [
    {
     "data": {
      "text/plain": [
       "No                     2445\n",
       "Yes                    1433\n",
       "No internet service    1052\n",
       "Name: OnlineSecurity, dtype: int64"
      ]
     },
     "execution_count": 7,
     "metadata": {},
     "output_type": "execute_result"
    }
   ],
   "source": [
    "df.OnlineSecurity.value_counts()"
   ]
  },
  {
   "cell_type": "code",
   "execution_count": 8,
   "id": "7729c0fd",
   "metadata": {},
   "outputs": [
    {
     "data": {
      "text/html": [
       "<div>\n",
       "<style scoped>\n",
       "    .dataframe tbody tr th:only-of-type {\n",
       "        vertical-align: middle;\n",
       "    }\n",
       "\n",
       "    .dataframe tbody tr th {\n",
       "        vertical-align: top;\n",
       "    }\n",
       "\n",
       "    .dataframe thead th {\n",
       "        text-align: right;\n",
       "    }\n",
       "</style>\n",
       "<table border=\"1\" class=\"dataframe\">\n",
       "  <thead>\n",
       "    <tr style=\"text-align: right;\">\n",
       "      <th></th>\n",
       "      <th>Dependents</th>\n",
       "      <th>OnlineSecurity</th>\n",
       "      <th>OnlineBackup</th>\n",
       "      <th>InternetService</th>\n",
       "      <th>DeviceProtection</th>\n",
       "      <th>TechSupport</th>\n",
       "      <th>Contract</th>\n",
       "      <th>PaperlessBilling</th>\n",
       "      <th>Churn</th>\n",
       "    </tr>\n",
       "  </thead>\n",
       "  <tbody>\n",
       "    <tr>\n",
       "      <th>count</th>\n",
       "      <td>4930</td>\n",
       "      <td>4930</td>\n",
       "      <td>4930</td>\n",
       "      <td>4930</td>\n",
       "      <td>4930</td>\n",
       "      <td>4930</td>\n",
       "      <td>4930</td>\n",
       "      <td>4930</td>\n",
       "      <td>4930</td>\n",
       "    </tr>\n",
       "    <tr>\n",
       "      <th>unique</th>\n",
       "      <td>2</td>\n",
       "      <td>3</td>\n",
       "      <td>3</td>\n",
       "      <td>3</td>\n",
       "      <td>3</td>\n",
       "      <td>3</td>\n",
       "      <td>3</td>\n",
       "      <td>2</td>\n",
       "      <td>2</td>\n",
       "    </tr>\n",
       "    <tr>\n",
       "      <th>top</th>\n",
       "      <td>No</td>\n",
       "      <td>No</td>\n",
       "      <td>No</td>\n",
       "      <td>Fiber optic</td>\n",
       "      <td>No</td>\n",
       "      <td>No</td>\n",
       "      <td>Month-to-month</td>\n",
       "      <td>Yes</td>\n",
       "      <td>No</td>\n",
       "    </tr>\n",
       "    <tr>\n",
       "      <th>freq</th>\n",
       "      <td>3446</td>\n",
       "      <td>2445</td>\n",
       "      <td>2172</td>\n",
       "      <td>2172</td>\n",
       "      <td>2186</td>\n",
       "      <td>2467</td>\n",
       "      <td>2721</td>\n",
       "      <td>2957</td>\n",
       "      <td>3614</td>\n",
       "    </tr>\n",
       "  </tbody>\n",
       "</table>\n",
       "</div>"
      ],
      "text/plain": [
       "       Dependents OnlineSecurity OnlineBackup InternetService  \\\n",
       "count        4930           4930         4930            4930   \n",
       "unique          2              3            3               3   \n",
       "top            No             No           No     Fiber optic   \n",
       "freq         3446           2445         2172            2172   \n",
       "\n",
       "       DeviceProtection TechSupport        Contract PaperlessBilling Churn  \n",
       "count              4930        4930            4930             4930  4930  \n",
       "unique                3           3               3                2     2  \n",
       "top                  No          No  Month-to-month              Yes    No  \n",
       "freq               2186        2467            2721             2957  3614  "
      ]
     },
     "execution_count": 8,
     "metadata": {},
     "output_type": "execute_result"
    }
   ],
   "source": [
    "df.dropna().describe(include=['O'])"
   ]
  },
  {
   "cell_type": "code",
   "execution_count": 9,
   "id": "2a8b8e1e",
   "metadata": {},
   "outputs": [],
   "source": [
    "df['Churn'] = np.where(df['Churn']=='Yes',1,0)"
   ]
  },
  {
   "cell_type": "code",
   "execution_count": 10,
   "id": "571c3ddf",
   "metadata": {},
   "outputs": [
    {
     "data": {
      "text/html": [
       "<div>\n",
       "<style scoped>\n",
       "    .dataframe tbody tr th:only-of-type {\n",
       "        vertical-align: middle;\n",
       "    }\n",
       "\n",
       "    .dataframe tbody tr th {\n",
       "        vertical-align: top;\n",
       "    }\n",
       "\n",
       "    .dataframe thead th {\n",
       "        text-align: right;\n",
       "    }\n",
       "</style>\n",
       "<table border=\"1\" class=\"dataframe\">\n",
       "  <thead>\n",
       "    <tr style=\"text-align: right;\">\n",
       "      <th></th>\n",
       "      <th>Dependents</th>\n",
       "      <th>tenure</th>\n",
       "      <th>OnlineSecurity</th>\n",
       "      <th>OnlineBackup</th>\n",
       "      <th>InternetService</th>\n",
       "      <th>DeviceProtection</th>\n",
       "      <th>TechSupport</th>\n",
       "      <th>Contract</th>\n",
       "      <th>PaperlessBilling</th>\n",
       "      <th>MonthlyCharges</th>\n",
       "      <th>Churn</th>\n",
       "    </tr>\n",
       "  </thead>\n",
       "  <tbody>\n",
       "    <tr>\n",
       "      <th>0</th>\n",
       "      <td>Yes</td>\n",
       "      <td>9</td>\n",
       "      <td>No</td>\n",
       "      <td>No</td>\n",
       "      <td>DSL</td>\n",
       "      <td>Yes</td>\n",
       "      <td>Yes</td>\n",
       "      <td>Month-to-month</td>\n",
       "      <td>Yes</td>\n",
       "      <td>72.90</td>\n",
       "      <td>1</td>\n",
       "    </tr>\n",
       "    <tr>\n",
       "      <th>1</th>\n",
       "      <td>No</td>\n",
       "      <td>14</td>\n",
       "      <td>No</td>\n",
       "      <td>Yes</td>\n",
       "      <td>Fiber optic</td>\n",
       "      <td>Yes</td>\n",
       "      <td>No</td>\n",
       "      <td>Month-to-month</td>\n",
       "      <td>Yes</td>\n",
       "      <td>82.65</td>\n",
       "      <td>0</td>\n",
       "    </tr>\n",
       "    <tr>\n",
       "      <th>2</th>\n",
       "      <td>No</td>\n",
       "      <td>64</td>\n",
       "      <td>Yes</td>\n",
       "      <td>No</td>\n",
       "      <td>DSL</td>\n",
       "      <td>Yes</td>\n",
       "      <td>Yes</td>\n",
       "      <td>Two year</td>\n",
       "      <td>No</td>\n",
       "      <td>47.85</td>\n",
       "      <td>1</td>\n",
       "    </tr>\n",
       "    <tr>\n",
       "      <th>3</th>\n",
       "      <td>No</td>\n",
       "      <td>72</td>\n",
       "      <td>Yes</td>\n",
       "      <td>Yes</td>\n",
       "      <td>DSL</td>\n",
       "      <td>Yes</td>\n",
       "      <td>Yes</td>\n",
       "      <td>Two year</td>\n",
       "      <td>No</td>\n",
       "      <td>69.65</td>\n",
       "      <td>0</td>\n",
       "    </tr>\n",
       "    <tr>\n",
       "      <th>4</th>\n",
       "      <td>No</td>\n",
       "      <td>3</td>\n",
       "      <td>No internet service</td>\n",
       "      <td>No internet service</td>\n",
       "      <td>No</td>\n",
       "      <td>No internet service</td>\n",
       "      <td>No internet service</td>\n",
       "      <td>Month-to-month</td>\n",
       "      <td>Yes</td>\n",
       "      <td>23.60</td>\n",
       "      <td>0</td>\n",
       "    </tr>\n",
       "    <tr>\n",
       "      <th>...</th>\n",
       "      <td>...</td>\n",
       "      <td>...</td>\n",
       "      <td>...</td>\n",
       "      <td>...</td>\n",
       "      <td>...</td>\n",
       "      <td>...</td>\n",
       "      <td>...</td>\n",
       "      <td>...</td>\n",
       "      <td>...</td>\n",
       "      <td>...</td>\n",
       "      <td>...</td>\n",
       "    </tr>\n",
       "    <tr>\n",
       "      <th>4925</th>\n",
       "      <td>No</td>\n",
       "      <td>15</td>\n",
       "      <td>No</td>\n",
       "      <td>No</td>\n",
       "      <td>Fiber optic</td>\n",
       "      <td>Yes</td>\n",
       "      <td>Yes</td>\n",
       "      <td>Month-to-month</td>\n",
       "      <td>Yes</td>\n",
       "      <td>103.45</td>\n",
       "      <td>0</td>\n",
       "    </tr>\n",
       "    <tr>\n",
       "      <th>4926</th>\n",
       "      <td>Yes</td>\n",
       "      <td>10</td>\n",
       "      <td>No</td>\n",
       "      <td>No</td>\n",
       "      <td>Fiber optic</td>\n",
       "      <td>Yes</td>\n",
       "      <td>Yes</td>\n",
       "      <td>Month-to-month</td>\n",
       "      <td>Yes</td>\n",
       "      <td>91.10</td>\n",
       "      <td>0</td>\n",
       "    </tr>\n",
       "    <tr>\n",
       "      <th>4927</th>\n",
       "      <td>No</td>\n",
       "      <td>58</td>\n",
       "      <td>No internet service</td>\n",
       "      <td>No internet service</td>\n",
       "      <td>No</td>\n",
       "      <td>No internet service</td>\n",
       "      <td>No internet service</td>\n",
       "      <td>Two year</td>\n",
       "      <td>No</td>\n",
       "      <td>20.75</td>\n",
       "      <td>0</td>\n",
       "    </tr>\n",
       "    <tr>\n",
       "      <th>4928</th>\n",
       "      <td>No</td>\n",
       "      <td>1</td>\n",
       "      <td>No</td>\n",
       "      <td>No</td>\n",
       "      <td>Fiber optic</td>\n",
       "      <td>No</td>\n",
       "      <td>No</td>\n",
       "      <td>Month-to-month</td>\n",
       "      <td>Yes</td>\n",
       "      <td>69.75</td>\n",
       "      <td>1</td>\n",
       "    </tr>\n",
       "    <tr>\n",
       "      <th>4929</th>\n",
       "      <td>Yes</td>\n",
       "      <td>4</td>\n",
       "      <td>No internet service</td>\n",
       "      <td>No internet service</td>\n",
       "      <td>No</td>\n",
       "      <td>No internet service</td>\n",
       "      <td>No internet service</td>\n",
       "      <td>Month-to-month</td>\n",
       "      <td>No</td>\n",
       "      <td>20.40</td>\n",
       "      <td>0</td>\n",
       "    </tr>\n",
       "  </tbody>\n",
       "</table>\n",
       "<p>4930 rows × 11 columns</p>\n",
       "</div>"
      ],
      "text/plain": [
       "     Dependents  tenure       OnlineSecurity         OnlineBackup  \\\n",
       "0           Yes       9                   No                   No   \n",
       "1            No      14                   No                  Yes   \n",
       "2            No      64                  Yes                   No   \n",
       "3            No      72                  Yes                  Yes   \n",
       "4            No       3  No internet service  No internet service   \n",
       "...         ...     ...                  ...                  ...   \n",
       "4925         No      15                   No                   No   \n",
       "4926        Yes      10                   No                   No   \n",
       "4927         No      58  No internet service  No internet service   \n",
       "4928         No       1                   No                   No   \n",
       "4929        Yes       4  No internet service  No internet service   \n",
       "\n",
       "     InternetService     DeviceProtection          TechSupport  \\\n",
       "0                DSL                  Yes                  Yes   \n",
       "1        Fiber optic                  Yes                   No   \n",
       "2                DSL                  Yes                  Yes   \n",
       "3                DSL                  Yes                  Yes   \n",
       "4                 No  No internet service  No internet service   \n",
       "...              ...                  ...                  ...   \n",
       "4925     Fiber optic                  Yes                  Yes   \n",
       "4926     Fiber optic                  Yes                  Yes   \n",
       "4927              No  No internet service  No internet service   \n",
       "4928     Fiber optic                   No                   No   \n",
       "4929              No  No internet service  No internet service   \n",
       "\n",
       "            Contract PaperlessBilling  MonthlyCharges  Churn  \n",
       "0     Month-to-month              Yes           72.90      1  \n",
       "1     Month-to-month              Yes           82.65      0  \n",
       "2           Two year               No           47.85      1  \n",
       "3           Two year               No           69.65      0  \n",
       "4     Month-to-month              Yes           23.60      0  \n",
       "...              ...              ...             ...    ...  \n",
       "4925  Month-to-month              Yes          103.45      0  \n",
       "4926  Month-to-month              Yes           91.10      0  \n",
       "4927        Two year               No           20.75      0  \n",
       "4928  Month-to-month              Yes           69.75      1  \n",
       "4929  Month-to-month               No           20.40      0  \n",
       "\n",
       "[4930 rows x 11 columns]"
      ]
     },
     "execution_count": 10,
     "metadata": {},
     "output_type": "execute_result"
    }
   ],
   "source": [
    "df"
   ]
  },
  {
   "cell_type": "code",
   "execution_count": 11,
   "id": "55c2488a",
   "metadata": {},
   "outputs": [
    {
     "data": {
      "text/html": [
       "<div>\n",
       "<style scoped>\n",
       "    .dataframe tbody tr th:only-of-type {\n",
       "        vertical-align: middle;\n",
       "    }\n",
       "\n",
       "    .dataframe tbody tr th {\n",
       "        vertical-align: top;\n",
       "    }\n",
       "\n",
       "    .dataframe thead th {\n",
       "        text-align: right;\n",
       "    }\n",
       "</style>\n",
       "<table border=\"1\" class=\"dataframe\">\n",
       "  <thead>\n",
       "    <tr style=\"text-align: right;\">\n",
       "      <th></th>\n",
       "      <th>Dependents</th>\n",
       "      <th>tenure</th>\n",
       "      <th>OnlineSecurity</th>\n",
       "      <th>OnlineBackup</th>\n",
       "      <th>InternetService</th>\n",
       "      <th>DeviceProtection</th>\n",
       "      <th>TechSupport</th>\n",
       "      <th>Contract</th>\n",
       "      <th>PaperlessBilling</th>\n",
       "      <th>MonthlyCharges</th>\n",
       "      <th>Churn</th>\n",
       "    </tr>\n",
       "  </thead>\n",
       "  <tbody>\n",
       "    <tr>\n",
       "      <th>82</th>\n",
       "      <td>Yes</td>\n",
       "      <td>0</td>\n",
       "      <td>No</td>\n",
       "      <td>Yes</td>\n",
       "      <td>DSL</td>\n",
       "      <td>Yes</td>\n",
       "      <td>Yes</td>\n",
       "      <td>Two year</td>\n",
       "      <td>No</td>\n",
       "      <td>73.35</td>\n",
       "      <td>0</td>\n",
       "    </tr>\n",
       "    <tr>\n",
       "      <th>325</th>\n",
       "      <td>Yes</td>\n",
       "      <td>0</td>\n",
       "      <td>Yes</td>\n",
       "      <td>No</td>\n",
       "      <td>DSL</td>\n",
       "      <td>Yes</td>\n",
       "      <td>Yes</td>\n",
       "      <td>Two year</td>\n",
       "      <td>Yes</td>\n",
       "      <td>52.55</td>\n",
       "      <td>0</td>\n",
       "    </tr>\n",
       "    <tr>\n",
       "      <th>1053</th>\n",
       "      <td>Yes</td>\n",
       "      <td>0</td>\n",
       "      <td>No internet service</td>\n",
       "      <td>No internet service</td>\n",
       "      <td>No</td>\n",
       "      <td>No internet service</td>\n",
       "      <td>No internet service</td>\n",
       "      <td>Two year</td>\n",
       "      <td>No</td>\n",
       "      <td>25.35</td>\n",
       "      <td>0</td>\n",
       "    </tr>\n",
       "    <tr>\n",
       "      <th>2017</th>\n",
       "      <td>Yes</td>\n",
       "      <td>0</td>\n",
       "      <td>Yes</td>\n",
       "      <td>Yes</td>\n",
       "      <td>DSL</td>\n",
       "      <td>Yes</td>\n",
       "      <td>No</td>\n",
       "      <td>Two year</td>\n",
       "      <td>No</td>\n",
       "      <td>80.85</td>\n",
       "      <td>0</td>\n",
       "    </tr>\n",
       "    <tr>\n",
       "      <th>2902</th>\n",
       "      <td>Yes</td>\n",
       "      <td>0</td>\n",
       "      <td>Yes</td>\n",
       "      <td>Yes</td>\n",
       "      <td>DSL</td>\n",
       "      <td>No</td>\n",
       "      <td>Yes</td>\n",
       "      <td>Two year</td>\n",
       "      <td>Yes</td>\n",
       "      <td>61.90</td>\n",
       "      <td>0</td>\n",
       "    </tr>\n",
       "    <tr>\n",
       "      <th>3410</th>\n",
       "      <td>Yes</td>\n",
       "      <td>0</td>\n",
       "      <td>Yes</td>\n",
       "      <td>Yes</td>\n",
       "      <td>DSL</td>\n",
       "      <td>Yes</td>\n",
       "      <td>Yes</td>\n",
       "      <td>Two year</td>\n",
       "      <td>No</td>\n",
       "      <td>56.05</td>\n",
       "      <td>0</td>\n",
       "    </tr>\n",
       "    <tr>\n",
       "      <th>4192</th>\n",
       "      <td>Yes</td>\n",
       "      <td>0</td>\n",
       "      <td>No internet service</td>\n",
       "      <td>No internet service</td>\n",
       "      <td>No</td>\n",
       "      <td>No internet service</td>\n",
       "      <td>No internet service</td>\n",
       "      <td>Two year</td>\n",
       "      <td>No</td>\n",
       "      <td>20.25</td>\n",
       "      <td>0</td>\n",
       "    </tr>\n",
       "    <tr>\n",
       "      <th>4441</th>\n",
       "      <td>Yes</td>\n",
       "      <td>0</td>\n",
       "      <td>No internet service</td>\n",
       "      <td>No internet service</td>\n",
       "      <td>No</td>\n",
       "      <td>No internet service</td>\n",
       "      <td>No internet service</td>\n",
       "      <td>Two year</td>\n",
       "      <td>No</td>\n",
       "      <td>19.85</td>\n",
       "      <td>0</td>\n",
       "    </tr>\n",
       "  </tbody>\n",
       "</table>\n",
       "</div>"
      ],
      "text/plain": [
       "     Dependents  tenure       OnlineSecurity         OnlineBackup  \\\n",
       "82          Yes       0                   No                  Yes   \n",
       "325         Yes       0                  Yes                   No   \n",
       "1053        Yes       0  No internet service  No internet service   \n",
       "2017        Yes       0                  Yes                  Yes   \n",
       "2902        Yes       0                  Yes                  Yes   \n",
       "3410        Yes       0                  Yes                  Yes   \n",
       "4192        Yes       0  No internet service  No internet service   \n",
       "4441        Yes       0  No internet service  No internet service   \n",
       "\n",
       "     InternetService     DeviceProtection          TechSupport  Contract  \\\n",
       "82               DSL                  Yes                  Yes  Two year   \n",
       "325              DSL                  Yes                  Yes  Two year   \n",
       "1053              No  No internet service  No internet service  Two year   \n",
       "2017             DSL                  Yes                   No  Two year   \n",
       "2902             DSL                   No                  Yes  Two year   \n",
       "3410             DSL                  Yes                  Yes  Two year   \n",
       "4192              No  No internet service  No internet service  Two year   \n",
       "4441              No  No internet service  No internet service  Two year   \n",
       "\n",
       "     PaperlessBilling  MonthlyCharges  Churn  \n",
       "82                 No           73.35      0  \n",
       "325               Yes           52.55      0  \n",
       "1053               No           25.35      0  \n",
       "2017               No           80.85      0  \n",
       "2902              Yes           61.90      0  \n",
       "3410               No           56.05      0  \n",
       "4192               No           20.25      0  \n",
       "4441               No           19.85      0  "
      ]
     },
     "execution_count": 11,
     "metadata": {},
     "output_type": "execute_result"
    }
   ],
   "source": [
    "df[df['tenure'] < 1]"
   ]
  },
  {
   "cell_type": "markdown",
   "id": "ef87019c",
   "metadata": {},
   "source": [
    "Observasi ini menunjukkan bahwa ada data yang memiliki tenure 0 sedangkan MonthlyCharges ada nilainya. Informasi ini menjadi informasi yang kontrakdiktori sehingga data ini akan dihapus."
   ]
  },
  {
   "cell_type": "code",
   "execution_count": 12,
   "id": "57c884d2",
   "metadata": {},
   "outputs": [],
   "source": [
    "df = df[df['tenure'] >= 1]"
   ]
  },
  {
   "cell_type": "code",
   "execution_count": 13,
   "id": "84aa28e6",
   "metadata": {},
   "outputs": [
    {
     "data": {
      "text/plain": [
       "(4922, 11)"
      ]
     },
     "execution_count": 13,
     "metadata": {},
     "output_type": "execute_result"
    }
   ],
   "source": [
    "df.shape"
   ]
  },
  {
   "cell_type": "markdown",
   "id": "a2263144",
   "metadata": {},
   "source": [
    "### Explanatory Data Analysis and Its Analysis"
   ]
  },
  {
   "cell_type": "code",
   "execution_count": 14,
   "id": "f59f8ea1",
   "metadata": {},
   "outputs": [
    {
     "data": {
      "text/plain": [
       "Text(0.5, 1.0, 'Churn Rate on Overall Data')"
      ]
     },
     "execution_count": 14,
     "metadata": {},
     "output_type": "execute_result"
    },
    {
     "data": {
      "image/png": "[encoded data removed]",
      "text/plain": [
       "<Figure size 432x288 with 1 Axes>"
      ]
     },
     "metadata": {
      "needs_background": "light"
     },
     "output_type": "display_data"
    }
   ],
   "source": [
    "sns.countplot(x='Churn', data=df)\n",
    "plt.title(\"Churn Rate on Overall Data\")"
   ]
  },
  {
   "cell_type": "code",
   "execution_count": 15,
   "id": "eee59920",
   "metadata": {},
   "outputs": [
    {
     "data": {
      "text/plain": [
       "0    73.262901\n",
       "1    26.737099\n",
       "Name: Churn, dtype: float64"
      ]
     },
     "execution_count": 15,
     "metadata": {},
     "output_type": "execute_result"
    }
   ],
   "source": [
    "100*df['Churn'].value_counts()/len(df['Churn'])"
   ]
  },
  {
   "cell_type": "markdown",
   "id": "5c8e9067",
   "metadata": {},
   "source": [
    "Dari data diketahui bahwa jumlah Churn kurang lebih adalah sepertiga dari jumlah customer yang tetap bertahan. Atau dapat diparafrasekan bahwa 26% konsumer akan melakukan churn terhadap perusahaan."
   ]
  },
  {
   "cell_type": "code",
   "execution_count": 16,
   "id": "8fab0ca7",
   "metadata": {},
   "outputs": [
    {
     "data": {
      "text/plain": [
       "Text(0.5, 1.0, 'Boxplot Churn vs MonthlyCharges')"
      ]
     },
     "execution_count": 16,
     "metadata": {},
     "output_type": "execute_result"
    },
    {
     "data": {
      "image/png": "[encoded data removed]",
      "text/plain": [
       "<Figure size 432x288 with 1 Axes>"
      ]
     },
     "metadata": {
      "needs_background": "light"
     },
     "output_type": "display_data"
    }
   ],
   "source": [
    "sns.boxplot(x=\"Churn\", y=\"MonthlyCharges\", data=df)\n",
    "plt.title(\"Boxplot Churn vs MonthlyCharges\")"
   ]
  },
  {
   "cell_type": "markdown",
   "id": "2e94a8bd",
   "metadata": {},
   "source": [
    "Berdasarkan data boxplot di Q1 dan Q3, diketahui bahwa kebanyakan customer yang churn adalah yang memiliki tagihan bulanan lebih dari 56 dollar hingga 94 dollar. Sebaliknya, yang tidak berpotensi churn memiliki tagihan bulanan antara 25 dollar hingga 88 dollar. Hal ini menunjukkan bahwa tagihan lebih tinggi rentan meningkatkan potensi churn pada customer"
   ]
  },
  {
   "cell_type": "code",
   "execution_count": 17,
   "id": "6b57b128",
   "metadata": {},
   "outputs": [
    {
     "data": {
      "text/plain": [
       "Text(0.5, 1.0, 'Distribution of MonthlyCharges vs Contract type seperated by Churn.')"
      ]
     },
     "execution_count": 17,
     "metadata": {},
     "output_type": "execute_result"
    },
    {
     "data": {
      "image/png": "[encoded data removed]",
      "text/plain": [
       "<Figure size 1080x576 with 1 Axes>"
      ]
     },
     "metadata": {
      "needs_background": "light"
     },
     "output_type": "display_data"
    }
   ],
   "source": [
    "plt.figure(figsize=(15,8))\n",
    "sns.boxplot(x=\"Contract\", y=\"MonthlyCharges\", hue='Churn', data=df)\n",
    "plt.title(\"Distribution of MonthlyCharges vs Contract type seperated by Churn.\")"
   ]
  },
  {
   "cell_type": "markdown",
   "id": "dae04d59",
   "metadata": {},
   "source": [
    "Berdasarkan boxplot Distribution of MonthlyCharges vs Contract type seperated by Churn, customer yang memiliki kontrak lebih lama dan juga membayar lebih tinggi akan cenderung churn. Hal ini bisa dikurangi dengan tambahan offering khusus saat kontrak sudah selesai."
   ]
  },
  {
   "cell_type": "code",
   "execution_count": 18,
   "id": "585dfc0f",
   "metadata": {},
   "outputs": [
    {
     "data": {
      "text/plain": [
       "Text(0.5, 1.0, 'Dependents Category vs Number of Churn')"
      ]
     },
     "execution_count": 18,
     "metadata": {},
     "output_type": "execute_result"
    },
    {
     "data": {
      "image/png": "[encoded data removed]",
      "text/plain": [
       "<Figure size 432x288 with 1 Axes>"
      ]
     },
     "metadata": {
      "needs_background": "light"
     },
     "output_type": "display_data"
    }
   ],
   "source": [
    "sns.countplot('Dependents', hue='Churn', data=df)\n",
    "plt.title(\"Dependents Category vs Number of Churn\")"
   ]
  },
  {
   "cell_type": "markdown",
   "id": "f7ca9ce1",
   "metadata": {},
   "source": [
    "Berdasarkan Barplot, orang yang tidak memiliki tanggungan memiliki jumlah retention lebih tinggi dibandingkan yang memiliki tanggungan. Namun demikian, jumlah churn nya pun juga tinggi untuk orang yang tidak memiliki tanggungan. Untuk selanjutnya, perusahaan dapat memberikan diskon yang menarik untuk mempertahankan langganan orang yang tidak memiliki tanggungan untuk tetap berlangganan pada produk perusahaan."
   ]
  },
  {
   "cell_type": "code",
   "execution_count": 19,
   "id": "5ccab17e",
   "metadata": {},
   "outputs": [
    {
     "data": {
      "image/png": "[encoded data removed]",
      "text/plain": [
       "<Figure size 864x360 with 2 Axes>"
      ]
     },
     "metadata": {
      "needs_background": "light"
     },
     "output_type": "display_data"
    }
   ],
   "source": [
    "def histogram_plots(columns_to_plot):\n",
    "    # set number of rows and number of columns\n",
    "    number_of_columns = 2\n",
    "    number_of_rows = math.ceil(len(columns_to_plot)/2)\n",
    "\n",
    "    # create a figure\n",
    "    fig = plt.figure(figsize=(12, 5 * number_of_rows)) \n",
    " \n",
    "\n",
    "    # loop to each demographic column name to create a subplot\n",
    "    for index, column in enumerate(columns_to_plot, 1):\n",
    "\n",
    "        # create the subplot\n",
    "        ax = fig.add_subplot(number_of_rows, number_of_columns, index)\n",
    "\n",
    "        # histograms for each class (normalized histogram)\n",
    "        df[df['Churn']==0][column].plot(kind='hist', ax=ax, density=True, \n",
    "                                                       alpha=0.5, color='springgreen', label='No')\n",
    "        df[df['Churn']==1][column].plot(kind='hist', ax=ax, density=True,\n",
    "                                                        alpha=0.5, color='salmon', label='Yes')\n",
    "        \n",
    "        # set the legend in the upper right corner\n",
    "        ax.legend(loc=\"upper right\", bbox_to_anchor=(0.5, 0.5, 0.5, 0.5),\n",
    "                  title='Churn', fancybox=True)\n",
    "\n",
    "        # set title and labels\n",
    "        ax.set_title('Distribution of ' + column + ' by churn',\n",
    "                     fontsize=16, loc='left')\n",
    "\n",
    "        ax.tick_params(rotation='auto')\n",
    "\n",
    "        # eliminate the frame from the plot\n",
    "        spine_names = ('top', 'right', 'bottom', 'left')\n",
    "        for spine_name in spine_names:\n",
    "            ax.spines[spine_name].set_visible(False)\n",
    "            \n",
    "# customer account column names\n",
    "account_columns_numeric = ['tenure', 'MonthlyCharges']\n",
    "# histogram of costumer account columns \n",
    "histogram_plots(account_columns_numeric)"
   ]
  },
  {
   "cell_type": "markdown",
   "id": "40fa748c",
   "metadata": {},
   "source": [
    "Terdapat dua insight dari grafik di atas. Customer baru ( tenure yang lebih rendah) cenderung untuk melakukan churn. Sedangkan bila tagihan bulanannya diantara 80-100, customer akan melakukan churn. Berbeda dengan yang memiliki tagihan rendah, maka tidak berpotensi melakukan churn."
   ]
  },
  {
   "cell_type": "code",
   "execution_count": 20,
   "id": "00111fb0",
   "metadata": {},
   "outputs": [],
   "source": [
    "def percentage_stacked_plot(columns_to_plot):\n",
    "    \n",
    "    number_of_columns = 2\n",
    "    number_of_rows = math.ceil(len(columns_to_plot)/2)\n",
    "\n",
    "    # create a figure\n",
    "    fig = plt.figure(figsize=(12, 5 * number_of_rows)) \n",
    " \n",
    "\n",
    "    # loop to each column name to create a subplot\n",
    "    for index, column in enumerate(columns_to_plot, 1):\n",
    "\n",
    "        # create the subplot\n",
    "        ax = fig.add_subplot(number_of_rows, number_of_columns, index)\n",
    "\n",
    "        # calculate the percentage of observations of the response variable for each group of the independent variable\n",
    "        # 100% stacked bar plot\n",
    "        prop_by_independent = pd.crosstab(df[column], df['Churn']).apply(lambda x: x/x.sum()*100, axis=1)\n",
    "\n",
    "        prop_by_independent.plot(kind='bar', ax=ax, stacked=True,rot=0, color=['green','salmon'])\n",
    "\n",
    "        # set the legend in the upper right corner\n",
    "        ax.legend(loc=\"upper right\", bbox_to_anchor=(0.62, 0.5, 0.5, 0.5),\n",
    "                  title='Churn', fancybox=True)\n",
    "\n",
    "        # set title and labels\n",
    "        ax.set_title('Proportion of observations by ' + column,\n",
    "                     fontsize=16, loc='left')\n",
    "\n",
    "        ax.tick_params(rotation='auto')\n",
    "\n",
    "        # eliminate the frame from the plot\n",
    "        spine_names = ('top', 'right', 'bottom', 'left')\n",
    "        for spine_name in spine_names:\n",
    "            ax.spines[spine_name].set_visible(False)"
   ]
  },
  {
   "cell_type": "code",
   "execution_count": 21,
   "id": "d3018e0e",
   "metadata": {},
   "outputs": [
    {
     "data": {
      "image/png": "[encoded data removed]",
      "text/plain": [
       "<Figure size 864x1080 with 5 Axes>"
      ]
     },
     "metadata": {
      "needs_background": "light"
     },
     "output_type": "display_data"
    }
   ],
   "source": [
    "services_columns = ['InternetService', 'OnlineSecurity', 'OnlineBackup', 'DeviceProtection', 'TechSupport']\n",
    "\n",
    "# stacked plot of services columns\n",
    "percentage_stacked_plot(services_columns)"
   ]
  },
  {
   "cell_type": "markdown",
   "id": "db206901",
   "metadata": {},
   "source": [
    "- Pengguna Fiber Optic cenderung melakukan churn dibanding service lainnya.\n",
    "- Pengguna yang tidak memiliki fasilitas Online Security cenderung melakukan churn\n",
    "- Pengguna yang tidak memiliki online Backup cenderung melakukan churn. \n",
    "- Pengguna yang tidak memiliki proteksi perangkat cenderung melakukan churn \n",
    " Pengguna yang tidak memiliki dukungan TechSupport cenderung melakukan churn"
   ]
  },
  {
   "cell_type": "markdown",
   "id": "f2e5a6a9",
   "metadata": {},
   "source": [
    "*Rangkuman Analisis*:\n",
    "  1. Diketahui bahwa jumlah `Churn` kurang lebih sepertiga dari jumlah customer yang bertahan.\n",
    "  2. Berdasarkan data boxplot di Q1 dan Q3, diketahui bahwa kebanyakan customer yang churn adalah yang memiliki tagihan bulanan lebih dari 56 dollar hingga 94 dollar. Sebaliknya, yang tidak berpotensi churn memiliki tagihan bulanan antara 25 dollar hingga 88 dollar. Hal ini menunjukkan bahwa tagihan lebih tinggi rentan meningkatkan potensi churn pada customer\n",
    "  3. Berdasarkan boxplot Distribution of MonthlyCharges vs Contract type seperated by Churn, customer yang memiliki kontrak lebih lama dan juga membayar lebih tinggi akan cenderung churn. Hal ini bisa dikurangi dengan tambahan offering khusus saat kontrak sudah selesai.\n",
    "  4. Berdasarkan Barplot, orang yang tidak memiliki tanggungan memiliki jumlah retention lebih tinggi dibandingkan yang memiliki tanggungan. Namun demikian, jumlah churn nya pun juga tinggi untuk orang yang tidak memiliki tanggungan. Untuk selanjutnya, perusahaan dapat memberikan diskon yang menarik untuk mempertahankan langganan orang yang tidak memiliki tanggungan untuk tetap berlangganan pada produk perusahaan.\n",
    "  5. Terdapat dua insight dari grafik di atas. Customer baru ( tenure yang lebih rendah) cenderung untuk melakukan churn. Sedangkan bila tagihan bulanannya diantara 80-100, customer akan melakukan churn. Berbeda dengan yang memiliki tagihan rendah, maka tidak berpotensi melakukan churn.\n",
    "  6. Pengguna Fiber Optic cenderung melakukan churn dibanding service lainnya.\n",
    "  7. Pengguna yang tidak memiliki fasilitas Online Security cenderung melakukan churn\n",
    "  8. Pengguna yang tidak memiliki online Backup cenderung melakukan churn.\n",
    "  9. Pengguna yang tidak memiliki proteksi perangkat cenderung melakukan churn Pengguna yang tidak memiliki dukungan TechSupport cenderung melakukan churn"
   ]
  },
  {
   "cell_type": "markdown",
   "id": "4db33231",
   "metadata": {},
   "source": [
    "## Feature Engineering"
   ]
  },
  {
   "cell_type": "markdown",
   "id": "41ef9583",
   "metadata": {},
   "source": [
    "**NO MODIFICATION**"
   ]
  },
  {
   "cell_type": "markdown",
   "id": "bb1f91b3",
   "metadata": {},
   "source": [
    "Kolom Churn sudah termasuk ke kolom biner sehingga tidak perlu dilakukan Encoding lagi"
   ]
  },
  {
   "cell_type": "markdown",
   "id": "5c0b0593",
   "metadata": {},
   "source": [
    "**LABEL ENCODING**"
   ]
  },
  {
   "cell_type": "markdown",
   "id": "1af1765f",
   "metadata": {},
   "source": [
    "Label encoding digunakan untuk mengubah nilai kategori menjadi nilai numerik. Pada tugas kali ini, akan kita lakukan label encoding pada variabel `Dependents` dan juga `Paperless Billing`"
   ]
  },
  {
   "cell_type": "code",
   "execution_count": 22,
   "id": "daf6a872",
   "metadata": {},
   "outputs": [],
   "source": [
    "df_telco_transformed = df.copy()\n",
    "\n",
    "# label encoding (binary variables)\n",
    "label_encoding_columns = [ 'Dependents', 'PaperlessBilling']\n",
    "\n",
    "# encode categorical binary features using label encoding\n",
    "for column in label_encoding_columns:\n",
    "        df_telco_transformed[column] = df_telco_transformed[column].map({'Yes': 1, 'No': 0}) "
   ]
  },
  {
   "cell_type": "markdown",
   "id": "866f43eb",
   "metadata": {},
   "source": [
    "**ONE HOT ENCODING**"
   ]
  },
  {
   "cell_type": "markdown",
   "id": "3b531b17",
   "metadata": {},
   "source": [
    "One-hot encoding membuat kolom biner baru untuk tiap level pada variabel kategorikal. Kolom baru akan mengandung nilai 0 dan 1 untuk mengidentifikasikan ada atau tidaknya data dalam category. Pada project ini kita akan melakukan one hot encoding pada variabel :  (1) `Contract`, (2) `InternetServices`, (3) `OnlineSecurity`, (4) `OnlineBackup`, (5) `DeviceProtection`, (6) `TechSupport`, (7)`OnlineSecurity`\n"
   ]
  },
  {
   "cell_type": "code",
   "execution_count": 23,
   "id": "5ac5502d",
   "metadata": {},
   "outputs": [],
   "source": [
    "transformer = ColumnTransformer([\n",
    "    ('onehot', OneHotEncoder(drop='first'), ['Contract','InternetService', 'OnlineBackup', 'DeviceProtection', \n",
    "                                             'TechSupport','OnlineSecurity'])\n",
    "], remainder='passthrough')"
   ]
  },
  {
   "cell_type": "markdown",
   "id": "a3ddbd0f",
   "metadata": {},
   "source": [
    "**DATA NORMALIZATION**"
   ]
  },
  {
   "cell_type": "markdown",
   "id": "73c3baea",
   "metadata": {},
   "source": [
    "Data normalization penting untuk mengubah skala data menjadi ukuran skala yang sama dengan data-data lainnya. Sehingga mengurangi bias dalam pemodelan machine learning. Hal ini dikarenakan nilai yang lebih besar akan mendominasi dalam proses pembelajaran machine learning. Oleh karena itu perlu dilakukan data normalization. Ada banyak teknik normalisasi dalam statistika. Pada projek ini kita akan menggunakan Min-max approach untuk merescale kolom `tenure` dan juga kolom `MonthlyCharges`"
   ]
  },
  {
   "cell_type": "code",
   "execution_count": 24,
   "id": "f2b2c65b",
   "metadata": {},
   "outputs": [],
   "source": [
    "min_max_columns = ['tenure', 'MonthlyCharges']\n",
    "\n",
    "# scale numerical variables using min max scaler\n",
    "for column in min_max_columns:\n",
    "        # minimum value of the column\n",
    "        min_column = df_telco_transformed[column].min()\n",
    "        # maximum value of the column\n",
    "        max_column = df_telco_transformed[column].max()\n",
    "        # min max scaler\n",
    "        df_telco_transformed[column] = (df_telco_transformed[column] - min_column) / (max_column - min_column)   \n"
   ]
  },
  {
   "cell_type": "markdown",
   "id": "172d39cd",
   "metadata": {},
   "source": [
    "## DATA PREPARATION"
   ]
  },
  {
   "cell_type": "markdown",
   "id": "61b28ad3",
   "metadata": {},
   "source": [
    "SPLIT X AND Y"
   ]
  },
  {
   "cell_type": "code",
   "execution_count": 25,
   "id": "82f5b798",
   "metadata": {},
   "outputs": [],
   "source": [
    "x = df_telco_transformed.drop(columns=['Churn'])\n",
    "y = df_telco_transformed['Churn']"
   ]
  },
  {
   "cell_type": "markdown",
   "id": "596b2ea9",
   "metadata": {},
   "source": [
    "**SPLIT THE DATA INTO TRAINING AND TEST SETS**"
   ]
  },
  {
   "cell_type": "markdown",
   "id": "1ef98d7d",
   "metadata": {},
   "source": [
    "Langkah berikutnya adalah membagi data menjadi 2 kelompok, yakni data latih dan data testing. Data training digunakan oleh model machine learning untuk membuat model. Sedangkan data tes berisi sampel yang bukan merupakan bagian dari proses pembelajaran dan hanya digunakan untuk mengukur performa model. "
   ]
  },
  {
   "cell_type": "code",
   "execution_count": 26,
   "id": "3ba704ff",
   "metadata": {},
   "outputs": [],
   "source": [
    "x_train,x_test,y_train,y_test=train_test_split(\n",
    "                                            x,\n",
    "                                            y,\n",
    "                                            stratify=y,\n",
    "                                            test_size=0.2,\n",
    "                                            random_state=2022)"
   ]
  },
  {
   "cell_type": "code",
   "execution_count": 27,
   "id": "9ba7cd03",
   "metadata": {},
   "outputs": [],
   "source": [
    "X_train_preprocessed = transformer.fit_transform(x_train)\n",
    "X_test_preprocessed = transformer.transform(x_test)"
   ]
  },
  {
   "cell_type": "code",
   "execution_count": 28,
   "id": "4746b986",
   "metadata": {},
   "outputs": [
    {
     "data": {
      "text/html": [
       "<div>\n",
       "<style scoped>\n",
       "    .dataframe tbody tr th:only-of-type {\n",
       "        vertical-align: middle;\n",
       "    }\n",
       "\n",
       "    .dataframe tbody tr th {\n",
       "        vertical-align: top;\n",
       "    }\n",
       "\n",
       "    .dataframe thead th {\n",
       "        text-align: right;\n",
       "    }\n",
       "</style>\n",
       "<table border=\"1\" class=\"dataframe\">\n",
       "  <thead>\n",
       "    <tr style=\"text-align: right;\">\n",
       "      <th></th>\n",
       "      <th>onehot__x0_One year</th>\n",
       "      <th>onehot__x0_Two year</th>\n",
       "      <th>onehot__x1_Fiber optic</th>\n",
       "      <th>onehot__x1_No</th>\n",
       "      <th>onehot__x2_No internet service</th>\n",
       "      <th>onehot__x2_Yes</th>\n",
       "      <th>onehot__x3_No internet service</th>\n",
       "      <th>onehot__x3_Yes</th>\n",
       "      <th>onehot__x4_No internet service</th>\n",
       "      <th>onehot__x4_Yes</th>\n",
       "      <th>onehot__x5_No internet service</th>\n",
       "      <th>onehot__x5_Yes</th>\n",
       "      <th>Dependents</th>\n",
       "      <th>tenure</th>\n",
       "      <th>PaperlessBilling</th>\n",
       "      <th>MonthlyCharges</th>\n",
       "    </tr>\n",
       "  </thead>\n",
       "  <tbody>\n",
       "    <tr>\n",
       "      <th>0</th>\n",
       "      <td>1.0</td>\n",
       "      <td>0.0</td>\n",
       "      <td>0.0</td>\n",
       "      <td>0.0</td>\n",
       "      <td>0.0</td>\n",
       "      <td>1.0</td>\n",
       "      <td>0.0</td>\n",
       "      <td>0.0</td>\n",
       "      <td>0.0</td>\n",
       "      <td>0.0</td>\n",
       "      <td>0.0</td>\n",
       "      <td>0.0</td>\n",
       "      <td>1.0</td>\n",
       "      <td>0.661972</td>\n",
       "      <td>0.0</td>\n",
       "      <td>0.111167</td>\n",
       "    </tr>\n",
       "    <tr>\n",
       "      <th>1</th>\n",
       "      <td>0.0</td>\n",
       "      <td>1.0</td>\n",
       "      <td>0.0</td>\n",
       "      <td>0.0</td>\n",
       "      <td>0.0</td>\n",
       "      <td>0.0</td>\n",
       "      <td>0.0</td>\n",
       "      <td>1.0</td>\n",
       "      <td>0.0</td>\n",
       "      <td>1.0</td>\n",
       "      <td>0.0</td>\n",
       "      <td>0.0</td>\n",
       "      <td>0.0</td>\n",
       "      <td>0.577465</td>\n",
       "      <td>1.0</td>\n",
       "      <td>0.597396</td>\n",
       "    </tr>\n",
       "    <tr>\n",
       "      <th>2</th>\n",
       "      <td>0.0</td>\n",
       "      <td>1.0</td>\n",
       "      <td>0.0</td>\n",
       "      <td>0.0</td>\n",
       "      <td>0.0</td>\n",
       "      <td>0.0</td>\n",
       "      <td>0.0</td>\n",
       "      <td>0.0</td>\n",
       "      <td>0.0</td>\n",
       "      <td>0.0</td>\n",
       "      <td>0.0</td>\n",
       "      <td>1.0</td>\n",
       "      <td>0.0</td>\n",
       "      <td>0.492958</td>\n",
       "      <td>0.0</td>\n",
       "      <td>0.122684</td>\n",
       "    </tr>\n",
       "    <tr>\n",
       "      <th>3</th>\n",
       "      <td>0.0</td>\n",
       "      <td>1.0</td>\n",
       "      <td>0.0</td>\n",
       "      <td>0.0</td>\n",
       "      <td>0.0</td>\n",
       "      <td>1.0</td>\n",
       "      <td>0.0</td>\n",
       "      <td>1.0</td>\n",
       "      <td>0.0</td>\n",
       "      <td>1.0</td>\n",
       "      <td>0.0</td>\n",
       "      <td>1.0</td>\n",
       "      <td>1.0</td>\n",
       "      <td>1.000000</td>\n",
       "      <td>1.0</td>\n",
       "      <td>0.649975</td>\n",
       "    </tr>\n",
       "    <tr>\n",
       "      <th>4</th>\n",
       "      <td>1.0</td>\n",
       "      <td>0.0</td>\n",
       "      <td>1.0</td>\n",
       "      <td>0.0</td>\n",
       "      <td>0.0</td>\n",
       "      <td>1.0</td>\n",
       "      <td>0.0</td>\n",
       "      <td>1.0</td>\n",
       "      <td>0.0</td>\n",
       "      <td>0.0</td>\n",
       "      <td>0.0</td>\n",
       "      <td>1.0</td>\n",
       "      <td>0.0</td>\n",
       "      <td>0.774648</td>\n",
       "      <td>1.0</td>\n",
       "      <td>0.744617</td>\n",
       "    </tr>\n",
       "  </tbody>\n",
       "</table>\n",
       "</div>"
      ],
      "text/plain": [
       "   onehot__x0_One year  onehot__x0_Two year  onehot__x1_Fiber optic  \\\n",
       "0                  1.0                  0.0                     0.0   \n",
       "1                  0.0                  1.0                     0.0   \n",
       "2                  0.0                  1.0                     0.0   \n",
       "3                  0.0                  1.0                     0.0   \n",
       "4                  1.0                  0.0                     1.0   \n",
       "\n",
       "   onehot__x1_No  onehot__x2_No internet service  onehot__x2_Yes  \\\n",
       "0            0.0                             0.0             1.0   \n",
       "1            0.0                             0.0             0.0   \n",
       "2            0.0                             0.0             0.0   \n",
       "3            0.0                             0.0             1.0   \n",
       "4            0.0                             0.0             1.0   \n",
       "\n",
       "   onehot__x3_No internet service  onehot__x3_Yes  \\\n",
       "0                             0.0             0.0   \n",
       "1                             0.0             1.0   \n",
       "2                             0.0             0.0   \n",
       "3                             0.0             1.0   \n",
       "4                             0.0             1.0   \n",
       "\n",
       "   onehot__x4_No internet service  onehot__x4_Yes  \\\n",
       "0                             0.0             0.0   \n",
       "1                             0.0             1.0   \n",
       "2                             0.0             0.0   \n",
       "3                             0.0             1.0   \n",
       "4                             0.0             0.0   \n",
       "\n",
       "   onehot__x5_No internet service  onehot__x5_Yes  Dependents    tenure  \\\n",
       "0                             0.0             0.0         1.0  0.661972   \n",
       "1                             0.0             0.0         0.0  0.577465   \n",
       "2                             0.0             1.0         0.0  0.492958   \n",
       "3                             0.0             1.0         1.0  1.000000   \n",
       "4                             0.0             1.0         0.0  0.774648   \n",
       "\n",
       "   PaperlessBilling  MonthlyCharges  \n",
       "0               0.0        0.111167  \n",
       "1               1.0        0.597396  \n",
       "2               0.0        0.122684  \n",
       "3               1.0        0.649975  \n",
       "4               1.0        0.744617  "
      ]
     },
     "execution_count": 28,
     "metadata": {},
     "output_type": "execute_result"
    }
   ],
   "source": [
    "testing = pd.DataFrame(X_train_preprocessed,columns=transformer.get_feature_names())\n",
    "testing.head()"
   ]
  },
  {
   "cell_type": "markdown",
   "id": "4d1b5304",
   "metadata": {},
   "source": [
    "Sekarang data sudah siap dan akan dilanjutkan dengan melakukan pemodelan machine learning dan evaluasi"
   ]
  },
  {
   "cell_type": "markdown",
   "id": "979a9d39",
   "metadata": {},
   "source": [
    "## Modeling and Evaluation"
   ]
  },
  {
   "cell_type": "markdown",
   "id": "9da739e3",
   "metadata": {},
   "source": [
    "Pemodelan akan menggunakan\n",
    "  1. Logistic Regression\n",
    "  2. Decision Tree\n",
    "  3. KNN\n",
    "  4. Random Forest\n",
    "  5. Adaboost\n",
    "  6. Extreme Gradient Boosting\n",
    "  \n",
    "Metode Evaluasi yang akan digunakan :\n",
    "  - Cross Validation\n",
    "  - Mean Score\n",
    "  - Standard Deviasi Score\n",
    "  - Recall Score"
   ]
  },
  {
   "cell_type": "code",
   "execution_count": 29,
   "id": "df0e242a",
   "metadata": {},
   "outputs": [],
   "source": [
    "logreg_pipe = LogisticRegression()\n",
    "tree_pipe = DecisionTreeClassifier(random_state = 2022)\n",
    "knn_pipe = KNeighborsClassifier()\n",
    "rf_pipe = RandomForestClassifier(random_state = 2022)\n",
    "ada_pipe = AdaBoostClassifier(random_state = 2022)\n",
    "xgb_pipe = XGBClassifier(random_state = 2022)"
   ]
  },
  {
   "cell_type": "code",
   "execution_count": 30,
   "id": "31f28bd8",
   "metadata": {},
   "outputs": [
    {
     "name": "stdout",
     "output_type": "stream",
     "text": [
      "[20:15:20] WARNING: C:/Users/Administrator/workspace/xgboost-win64_release_1.5.1/src/learner.cc:1115: Starting in XGBoost 1.3.0, the default evaluation metric used with the objective 'binary:logistic' was changed from 'error' to 'logloss'. Explicitly set eval_metric if you'd like to restore the old behavior.\n",
      "[20:15:21] WARNING: C:/Users/Administrator/workspace/xgboost-win64_release_1.5.1/src/learner.cc:1115: Starting in XGBoost 1.3.0, the default evaluation metric used with the objective 'binary:logistic' was changed from 'error' to 'logloss'. Explicitly set eval_metric if you'd like to restore the old behavior.\n",
      "[20:15:21] WARNING: C:/Users/Administrator/workspace/xgboost-win64_release_1.5.1/src/learner.cc:1115: Starting in XGBoost 1.3.0, the default evaluation metric used with the objective 'binary:logistic' was changed from 'error' to 'logloss'. Explicitly set eval_metric if you'd like to restore the old behavior.\n",
      "[20:15:22] WARNING: C:/Users/Administrator/workspace/xgboost-win64_release_1.5.1/src/learner.cc:1115: Starting in XGBoost 1.3.0, the default evaluation metric used with the objective 'binary:logistic' was changed from 'error' to 'logloss'. Explicitly set eval_metric if you'd like to restore the old behavior.\n",
      "[20:15:22] WARNING: C:/Users/Administrator/workspace/xgboost-win64_release_1.5.1/src/learner.cc:1115: Starting in XGBoost 1.3.0, the default evaluation metric used with the objective 'binary:logistic' was changed from 'error' to 'logloss'. Explicitly set eval_metric if you'd like to restore the old behavior.\n",
      "[20:15:24] WARNING: C:/Users/Administrator/workspace/xgboost-win64_release_1.5.1/src/learner.cc:1115: Starting in XGBoost 1.3.0, the default evaluation metric used with the objective 'binary:logistic' was changed from 'error' to 'logloss'. Explicitly set eval_metric if you'd like to restore the old behavior.\n"
     ]
    },
    {
     "data": {
      "text/html": [
       "<div>\n",
       "<style scoped>\n",
       "    .dataframe tbody tr th:only-of-type {\n",
       "        vertical-align: middle;\n",
       "    }\n",
       "\n",
       "    .dataframe tbody tr th {\n",
       "        vertical-align: top;\n",
       "    }\n",
       "\n",
       "    .dataframe thead th {\n",
       "        text-align: right;\n",
       "    }\n",
       "</style>\n",
       "<table border=\"1\" class=\"dataframe\">\n",
       "  <thead>\n",
       "    <tr style=\"text-align: right;\">\n",
       "      <th></th>\n",
       "      <th>method</th>\n",
       "      <th>cv score</th>\n",
       "      <th>mean score</th>\n",
       "      <th>std score</th>\n",
       "      <th>recall score</th>\n",
       "    </tr>\n",
       "  </thead>\n",
       "  <tbody>\n",
       "    <tr>\n",
       "      <th>0</th>\n",
       "      <td>Logistic Regression</td>\n",
       "      <td>[0.54028, 0.51185, 0.5381, 0.55238, 0.51185]</td>\n",
       "      <td>0.530891</td>\n",
       "      <td>0.016292</td>\n",
       "      <td>0.574144</td>\n",
       "    </tr>\n",
       "    <tr>\n",
       "      <th>1</th>\n",
       "      <td>Decision Tree Classifier</td>\n",
       "      <td>[0.49763, 0.46919, 0.50476, 0.55714, 0.56398]</td>\n",
       "      <td>0.518542</td>\n",
       "      <td>0.036379</td>\n",
       "      <td>0.570342</td>\n",
       "    </tr>\n",
       "    <tr>\n",
       "      <th>2</th>\n",
       "      <td>KNN Classifier</td>\n",
       "      <td>[0.48815, 0.4455, 0.51429, 0.53333, 0.46919]</td>\n",
       "      <td>0.490093</td>\n",
       "      <td>0.031255</td>\n",
       "      <td>0.517110</td>\n",
       "    </tr>\n",
       "    <tr>\n",
       "      <th>3</th>\n",
       "      <td>Random Forest Classifier</td>\n",
       "      <td>[0.49289, 0.46919, 0.44762, 0.50952, 0.48341]</td>\n",
       "      <td>0.480528</td>\n",
       "      <td>0.021040</td>\n",
       "      <td>0.520913</td>\n",
       "    </tr>\n",
       "    <tr>\n",
       "      <th>4</th>\n",
       "      <td>Ada Boost Classifier</td>\n",
       "      <td>[0.54976, 0.49289, 0.50952, 0.56667, 0.46445]</td>\n",
       "      <td>0.516660</td>\n",
       "      <td>0.037250</td>\n",
       "      <td>0.539924</td>\n",
       "    </tr>\n",
       "    <tr>\n",
       "      <th>5</th>\n",
       "      <td>XGB Classifier</td>\n",
       "      <td>[0.51185, 0.47867, 0.50952, 0.54286, 0.54976]</td>\n",
       "      <td>0.518533</td>\n",
       "      <td>0.025619</td>\n",
       "      <td>0.539924</td>\n",
       "    </tr>\n",
       "  </tbody>\n",
       "</table>\n",
       "</div>"
      ],
      "text/plain": [
       "                     method                                       cv score  \\\n",
       "0       Logistic Regression   [0.54028, 0.51185, 0.5381, 0.55238, 0.51185]   \n",
       "1  Decision Tree Classifier  [0.49763, 0.46919, 0.50476, 0.55714, 0.56398]   \n",
       "2            KNN Classifier   [0.48815, 0.4455, 0.51429, 0.53333, 0.46919]   \n",
       "3  Random Forest Classifier  [0.49289, 0.46919, 0.44762, 0.50952, 0.48341]   \n",
       "4      Ada Boost Classifier  [0.54976, 0.49289, 0.50952, 0.56667, 0.46445]   \n",
       "5            XGB Classifier  [0.51185, 0.47867, 0.50952, 0.54286, 0.54976]   \n",
       "\n",
       "   mean score  std score  recall score  \n",
       "0    0.530891   0.016292      0.574144  \n",
       "1    0.518542   0.036379      0.570342  \n",
       "2    0.490093   0.031255      0.517110  \n",
       "3    0.480528   0.021040      0.520913  \n",
       "4    0.516660   0.037250      0.539924  \n",
       "5    0.518533   0.025619      0.539924  "
      ]
     },
     "execution_count": 30,
     "metadata": {},
     "output_type": "execute_result"
    }
   ],
   "source": [
    "def model_evaluation(model, metric):\n",
    "    model_cv = cross_val_score(model, X_train_preprocessed, y_train, cv = StratifiedKFold(n_splits = 5), scoring = metric)\n",
    "    return model_cv\n",
    "\n",
    "logreg_pipe_cv = model_evaluation(logreg_pipe, 'recall')\n",
    "tree_pipe_cv = model_evaluation(tree_pipe, 'recall')\n",
    "knn_pipe_cv = model_evaluation(knn_pipe, 'recall')\n",
    "rf_pipe_cv = model_evaluation(rf_pipe, 'recall')\n",
    "ada_pipe_cv = model_evaluation(ada_pipe, 'recall')\n",
    "xgb_pipe_cv = model_evaluation(xgb_pipe, 'recall')\n",
    "\n",
    "for model in [logreg_pipe, tree_pipe, knn_pipe, rf_pipe, ada_pipe, xgb_pipe]:\n",
    "    model.fit(X_train_preprocessed, y_train)\n",
    "\n",
    "score_cv = [logreg_pipe_cv.round(5), tree_pipe_cv.round(5), knn_pipe_cv.round(5),\n",
    "            rf_pipe_cv.round(5), ada_pipe_cv.round(5), xgb_pipe_cv.round(5)]\n",
    "score_mean = [logreg_pipe_cv.mean(), tree_pipe_cv.mean(), knn_pipe_cv.mean(), rf_pipe_cv.mean(),\n",
    "              ada_pipe_cv.mean(), xgb_pipe_cv.mean()]\n",
    "score_std = [logreg_pipe_cv.std(), tree_pipe_cv.std(), knn_pipe_cv.std(), rf_pipe_cv.std(),\n",
    "             ada_pipe_cv.std(), xgb_pipe_cv.std()]\n",
    "score_recall_score = [recall_score(y_test, logreg_pipe.predict(X_test_preprocessed)),\n",
    "            recall_score(y_test, tree_pipe.predict(X_test_preprocessed)), \n",
    "            recall_score(y_test, knn_pipe.predict(X_test_preprocessed)), \n",
    "            recall_score(y_test, rf_pipe.predict(X_test_preprocessed)),\n",
    "            recall_score(y_test, ada_pipe.predict(X_test_preprocessed)),\n",
    "            recall_score(y_test, xgb_pipe.predict(X_test_preprocessed))]\n",
    "method_name = ['Logistic Regression', 'Decision Tree Classifier', 'KNN Classifier', 'Random Forest Classifier',\n",
    "               'Ada Boost Classifier', 'XGB Classifier']\n",
    "cv_summary = pd.DataFrame({\n",
    "    'method': method_name,\n",
    "    'cv score': score_cv,\n",
    "    'mean score': score_mean,\n",
    "    'std score': score_std,\n",
    "    'recall score': score_recall_score\n",
    "})\n",
    "cv_summary"
   ]
  },
  {
   "cell_type": "markdown",
   "id": "361d16bd",
   "metadata": {},
   "source": [
    "Dari data diatas diketahui bahwa model memiliki performa yang buruk karena hanya mampu menangkap sebesar 50% rerata validasi akurat. Oleh karena itu akan dilakukan metode selanjutnya yakni Oversampling menggunakan Random Oversampler dan SMOTE"
   ]
  },
  {
   "cell_type": "markdown",
   "id": "5c4cd3aa",
   "metadata": {},
   "source": [
    "## Random Oversampler"
   ]
  },
  {
   "cell_type": "code",
   "execution_count": 31,
   "id": "fcf8db5d",
   "metadata": {},
   "outputs": [],
   "source": [
    "ros = RandomOverSampler(random_state = 2727)\n",
    "X_over, y_over = ros.fit_resample(X_train_preprocessed, y_train)"
   ]
  },
  {
   "cell_type": "code",
   "execution_count": 32,
   "id": "5daaa64c",
   "metadata": {},
   "outputs": [],
   "source": [
    "logreg_pipe_scale_over = Pipeline([\n",
    "    ('ros', ros), \n",
    "    ('logreg', logreg_pipe)\n",
    "])\n",
    "\n",
    "tree_pipe_scale_over = Pipeline([\n",
    "    ('ros', ros), \n",
    "    ('tree', tree_pipe)\n",
    "])\n",
    "\n",
    "knn_pipe_scale_over = Pipeline([\n",
    "    ('ros', ros), \n",
    "    ('knn', knn_pipe)\n",
    "])\n",
    "\n",
    "rf_pipe_scale_over = Pipeline([\n",
    "    ('ros', ros),\n",
    "    ('rf', rf_pipe)\n",
    "])\n",
    "ada_pipe_scale_over = Pipeline([\n",
    "    ('ros', ros),\n",
    "    ('ada',ada_pipe)\n",
    "])\n",
    "xgb_pipe_scale_over = Pipeline([\n",
    "    ('ros', ros),\n",
    "    ('xgb',xgb_pipe)\n",
    "])"
   ]
  },
  {
   "cell_type": "code",
   "execution_count": 33,
   "id": "97946262",
   "metadata": {},
   "outputs": [],
   "source": [
    "def model_evaluation2(model, metric):\n",
    "    skfold = StratifiedKFold(n_splits = 5)\n",
    "    model_cv = cross_val_score(model, X_over, y_over, cv = skfold, scoring = metric)\n",
    "    return model_cv"
   ]
  },
  {
   "cell_type": "code",
   "execution_count": 34,
   "id": "95a7bd7f",
   "metadata": {},
   "outputs": [
    {
     "name": "stdout",
     "output_type": "stream",
     "text": [
      "[20:15:35] WARNING: C:/Users/Administrator/workspace/xgboost-win64_release_1.5.1/src/learner.cc:1115: Starting in XGBoost 1.3.0, the default evaluation metric used with the objective 'binary:logistic' was changed from 'error' to 'logloss'. Explicitly set eval_metric if you'd like to restore the old behavior.\n",
      "[20:15:35] WARNING: C:/Users/Administrator/workspace/xgboost-win64_release_1.5.1/src/learner.cc:1115: Starting in XGBoost 1.3.0, the default evaluation metric used with the objective 'binary:logistic' was changed from 'error' to 'logloss'. Explicitly set eval_metric if you'd like to restore the old behavior.\n",
      "[20:15:36] WARNING: C:/Users/Administrator/workspace/xgboost-win64_release_1.5.1/src/learner.cc:1115: Starting in XGBoost 1.3.0, the default evaluation metric used with the objective 'binary:logistic' was changed from 'error' to 'logloss'. Explicitly set eval_metric if you'd like to restore the old behavior.\n",
      "[20:15:36] WARNING: C:/Users/Administrator/workspace/xgboost-win64_release_1.5.1/src/learner.cc:1115: Starting in XGBoost 1.3.0, the default evaluation metric used with the objective 'binary:logistic' was changed from 'error' to 'logloss'. Explicitly set eval_metric if you'd like to restore the old behavior.\n",
      "[20:15:37] WARNING: C:/Users/Administrator/workspace/xgboost-win64_release_1.5.1/src/learner.cc:1115: Starting in XGBoost 1.3.0, the default evaluation metric used with the objective 'binary:logistic' was changed from 'error' to 'logloss'. Explicitly set eval_metric if you'd like to restore the old behavior.\n"
     ]
    }
   ],
   "source": [
    "logreg_scale_over_cv = model_evaluation2(logreg_pipe_scale_over, 'recall') \n",
    "tree_scale_over_cv = model_evaluation2(tree_pipe_scale_over, 'recall')\n",
    "knn_pipe_over_cv = model_evaluation2(knn_pipe_scale_over, 'recall')\n",
    "rf_pipe_over_cv = model_evaluation2(rf_pipe_scale_over, 'recall')\n",
    "ada_pipe_over_cv = model_evaluation2(ada_pipe_scale_over, 'recall')\n",
    "xgb_pipe_over_cv = model_evaluation2(xgb_pipe_scale_over, 'recall')"
   ]
  },
  {
   "cell_type": "code",
   "execution_count": 35,
   "id": "aef1593a",
   "metadata": {},
   "outputs": [
    {
     "name": "stdout",
     "output_type": "stream",
     "text": [
      "[20:15:39] WARNING: C:/Users/Administrator/workspace/xgboost-win64_release_1.5.1/src/learner.cc:1115: Starting in XGBoost 1.3.0, the default evaluation metric used with the objective 'binary:logistic' was changed from 'error' to 'logloss'. Explicitly set eval_metric if you'd like to restore the old behavior.\n"
     ]
    }
   ],
   "source": [
    "for model2 in [logreg_pipe_scale_over, tree_pipe_scale_over, knn_pipe_scale_over, rf_pipe_scale_over,ada_pipe_scale_over,xgb_pipe_scale_over]:\n",
    "    model2.fit(X_train_preprocessed, y_train)"
   ]
  },
  {
   "cell_type": "code",
   "execution_count": 36,
   "id": "d8d2cf4f",
   "metadata": {},
   "outputs": [
    {
     "data": {
      "text/html": [
       "<div>\n",
       "<style scoped>\n",
       "    .dataframe tbody tr th:only-of-type {\n",
       "        vertical-align: middle;\n",
       "    }\n",
       "\n",
       "    .dataframe tbody tr th {\n",
       "        vertical-align: top;\n",
       "    }\n",
       "\n",
       "    .dataframe thead th {\n",
       "        text-align: right;\n",
       "    }\n",
       "</style>\n",
       "<table border=\"1\" class=\"dataframe\">\n",
       "  <thead>\n",
       "    <tr style=\"text-align: right;\">\n",
       "      <th></th>\n",
       "      <th>method</th>\n",
       "      <th>cv score</th>\n",
       "      <th>mean score</th>\n",
       "      <th>std score</th>\n",
       "      <th>recall score</th>\n",
       "    </tr>\n",
       "  </thead>\n",
       "  <tbody>\n",
       "    <tr>\n",
       "      <th>0</th>\n",
       "      <td>Logistic Regression</td>\n",
       "      <td>[0.81109, 0.79896, 0.7851, 0.79514, 0.81456]</td>\n",
       "      <td>0.800969</td>\n",
       "      <td>0.010744</td>\n",
       "      <td>0.790875</td>\n",
       "    </tr>\n",
       "    <tr>\n",
       "      <th>1</th>\n",
       "      <td>Decision Tree Classifier</td>\n",
       "      <td>[0.91334, 0.90641, 0.9948, 0.99306, 0.99307]</td>\n",
       "      <td>0.960136</td>\n",
       "      <td>0.041099</td>\n",
       "      <td>0.532319</td>\n",
       "    </tr>\n",
       "    <tr>\n",
       "      <th>2</th>\n",
       "      <td>KNN Classifier</td>\n",
       "      <td>[0.84055, 0.80936, 0.87522, 0.86806, 0.84402]</td>\n",
       "      <td>0.847441</td>\n",
       "      <td>0.023263</td>\n",
       "      <td>0.726236</td>\n",
       "    </tr>\n",
       "    <tr>\n",
       "      <th>3</th>\n",
       "      <td>Random Forest Classifier</td>\n",
       "      <td>[0.93588, 0.92894, 0.9948, 0.99653, 0.9948]</td>\n",
       "      <td>0.970189</td>\n",
       "      <td>0.030932</td>\n",
       "      <td>0.623574</td>\n",
       "    </tr>\n",
       "    <tr>\n",
       "      <th>4</th>\n",
       "      <td>Ada Boost Classifier</td>\n",
       "      <td>[0.81109, 0.80936, 0.80936, 0.8125, 0.81282]</td>\n",
       "      <td>0.811027</td>\n",
       "      <td>0.001481</td>\n",
       "      <td>0.847909</td>\n",
       "    </tr>\n",
       "    <tr>\n",
       "      <th>5</th>\n",
       "      <td>XGB Classifier</td>\n",
       "      <td>[0.90815, 0.89601, 0.95494, 0.93576, 0.9688]</td>\n",
       "      <td>0.932733</td>\n",
       "      <td>0.027409</td>\n",
       "      <td>0.673004</td>\n",
       "    </tr>\n",
       "  </tbody>\n",
       "</table>\n",
       "</div>"
      ],
      "text/plain": [
       "                     method                                       cv score  \\\n",
       "0       Logistic Regression   [0.81109, 0.79896, 0.7851, 0.79514, 0.81456]   \n",
       "1  Decision Tree Classifier   [0.91334, 0.90641, 0.9948, 0.99306, 0.99307]   \n",
       "2            KNN Classifier  [0.84055, 0.80936, 0.87522, 0.86806, 0.84402]   \n",
       "3  Random Forest Classifier    [0.93588, 0.92894, 0.9948, 0.99653, 0.9948]   \n",
       "4      Ada Boost Classifier   [0.81109, 0.80936, 0.80936, 0.8125, 0.81282]   \n",
       "5            XGB Classifier   [0.90815, 0.89601, 0.95494, 0.93576, 0.9688]   \n",
       "\n",
       "   mean score  std score  recall score  \n",
       "0    0.800969   0.010744      0.790875  \n",
       "1    0.960136   0.041099      0.532319  \n",
       "2    0.847441   0.023263      0.726236  \n",
       "3    0.970189   0.030932      0.623574  \n",
       "4    0.811027   0.001481      0.847909  \n",
       "5    0.932733   0.027409      0.673004  "
      ]
     },
     "execution_count": 36,
     "metadata": {},
     "output_type": "execute_result"
    }
   ],
   "source": [
    "score_cv = [logreg_scale_over_cv.round(5), tree_scale_over_cv.round(5), knn_pipe_over_cv.round(5),\n",
    "            rf_pipe_over_cv.round(5), ada_pipe_over_cv.round(5), xgb_pipe_over_cv.round(5)]\n",
    "score_mean = [logreg_scale_over_cv.mean(), tree_scale_over_cv.mean(), knn_pipe_over_cv.mean(), rf_pipe_over_cv.mean(),\n",
    "              ada_pipe_over_cv.mean(), xgb_pipe_over_cv.mean()]\n",
    "score_std = [logreg_scale_over_cv.std(), tree_scale_over_cv.std(), knn_pipe_over_cv.std(), rf_pipe_over_cv.std(),\n",
    "             ada_pipe_over_cv.std(), xgb_pipe_over_cv.std()]\n",
    "score_recall_score = [recall_score(y_test, logreg_pipe_scale_over.predict(X_test_preprocessed)),\n",
    "            recall_score(y_test, tree_pipe_scale_over.predict(X_test_preprocessed)), \n",
    "            recall_score(y_test, knn_pipe_scale_over.predict(X_test_preprocessed)), \n",
    "            recall_score(y_test, rf_pipe_scale_over.predict(X_test_preprocessed)),\n",
    "            recall_score(y_test, ada_pipe_scale_over.predict(X_test_preprocessed)),\n",
    "            recall_score(y_test, xgb_pipe_scale_over.predict(X_test_preprocessed))]\n",
    "method_name = ['Logistic Regression', 'Decision Tree Classifier', 'KNN Classifier', 'Random Forest Classifier',\n",
    "               'Ada Boost Classifier', 'XGB Classifier']\n",
    "cv_summary = pd.DataFrame({\n",
    "    'method': method_name,\n",
    "    'cv score': score_cv,\n",
    "    'mean score': score_mean,\n",
    "    'std score': score_std,\n",
    "    'recall score': score_recall_score,\n",
    "})\n",
    "cv_summary"
   ]
  },
  {
   "cell_type": "markdown",
   "id": "b2fe898b",
   "metadata": {},
   "source": [
    "Terlihat bahwa setelah dilakukan oversampling, mean scorenya meningkat tajam mencapai 97% dengan cross validation yang seimbang. Namun demikian memiliki recall yang rendah"
   ]
  },
  {
   "cell_type": "markdown",
   "id": "567bfbc4",
   "metadata": {},
   "source": [
    "## SMOTE"
   ]
  },
  {
   "cell_type": "code",
   "execution_count": 37,
   "id": "936bc628",
   "metadata": {},
   "outputs": [],
   "source": [
    "smote = SMOTE(random_state = 2727)"
   ]
  },
  {
   "cell_type": "code",
   "execution_count": 38,
   "id": "4880da19",
   "metadata": {},
   "outputs": [],
   "source": [
    "logreg_pipe_scale_smote = Pipeline([\n",
    "    ('smote', smote),\n",
    "    ('logreg', logreg_pipe)\n",
    "])\n",
    "\n",
    "tree_pipe_scale_smote = Pipeline([\n",
    "    ('smote', smote),\n",
    "    ('tree', tree_pipe)\n",
    "])\n",
    "\n",
    "knn_pipe_scale_smote = Pipeline([\n",
    "    ('smote', smote),\n",
    "    ('knn', knn_pipe)\n",
    "])\n",
    "\n",
    "rf_pipe_scale_smote = Pipeline([\n",
    "    ('smote', smote),\n",
    "    ('rf', rf_pipe)\n",
    "])\n",
    "ada_pipe_scale_smote = Pipeline([\n",
    "     ('smote', smote),\n",
    "    ('ada',ada_pipe)\n",
    "])\n",
    "xgb_pipe_scale_smote = Pipeline([\n",
    "     ('smote', smote),\n",
    "    ('xgb',xgb_pipe)\n",
    "])"
   ]
  },
  {
   "cell_type": "code",
   "execution_count": 39,
   "id": "a8c1e96e",
   "metadata": {},
   "outputs": [
    {
     "name": "stdout",
     "output_type": "stream",
     "text": [
      "[20:15:52] WARNING: C:/Users/Administrator/workspace/xgboost-win64_release_1.5.1/src/learner.cc:1115: Starting in XGBoost 1.3.0, the default evaluation metric used with the objective 'binary:logistic' was changed from 'error' to 'logloss'. Explicitly set eval_metric if you'd like to restore the old behavior.\n",
      "[20:15:53] WARNING: C:/Users/Administrator/workspace/xgboost-win64_release_1.5.1/src/learner.cc:1115: Starting in XGBoost 1.3.0, the default evaluation metric used with the objective 'binary:logistic' was changed from 'error' to 'logloss'. Explicitly set eval_metric if you'd like to restore the old behavior.\n",
      "[20:15:53] WARNING: C:/Users/Administrator/workspace/xgboost-win64_release_1.5.1/src/learner.cc:1115: Starting in XGBoost 1.3.0, the default evaluation metric used with the objective 'binary:logistic' was changed from 'error' to 'logloss'. Explicitly set eval_metric if you'd like to restore the old behavior.\n",
      "[20:15:54] WARNING: C:/Users/Administrator/workspace/xgboost-win64_release_1.5.1/src/learner.cc:1115: Starting in XGBoost 1.3.0, the default evaluation metric used with the objective 'binary:logistic' was changed from 'error' to 'logloss'. Explicitly set eval_metric if you'd like to restore the old behavior.\n",
      "[20:15:55] WARNING: C:/Users/Administrator/workspace/xgboost-win64_release_1.5.1/src/learner.cc:1115: Starting in XGBoost 1.3.0, the default evaluation metric used with the objective 'binary:logistic' was changed from 'error' to 'logloss'. Explicitly set eval_metric if you'd like to restore the old behavior.\n"
     ]
    }
   ],
   "source": [
    "logreg_scale_smote_cv = model_evaluation2(logreg_pipe_scale_smote, 'recall') \n",
    "tree_scale_smote_cv = model_evaluation2(tree_pipe_scale_smote, 'recall')\n",
    "knn_pipe_smote_cv = model_evaluation2(knn_pipe_scale_smote, 'recall')\n",
    "rf_pipe_smote_cv = model_evaluation2(rf_pipe_scale_smote, 'recall')\n",
    "ada_pipe_smote_cv = model_evaluation2(ada_pipe_scale_smote, 'recall')\n",
    "xgb_pipe_smote_cv = model_evaluation2(xgb_pipe_scale_smote, 'recall')"
   ]
  },
  {
   "cell_type": "code",
   "execution_count": 40,
   "id": "8d524af2",
   "metadata": {},
   "outputs": [
    {
     "name": "stdout",
     "output_type": "stream",
     "text": [
      "[20:15:58] WARNING: C:/Users/Administrator/workspace/xgboost-win64_release_1.5.1/src/learner.cc:1115: Starting in XGBoost 1.3.0, the default evaluation metric used with the objective 'binary:logistic' was changed from 'error' to 'logloss'. Explicitly set eval_metric if you'd like to restore the old behavior.\n"
     ]
    }
   ],
   "source": [
    "for model2 in [logreg_pipe_scale_smote, tree_pipe_scale_smote, knn_pipe_scale_smote, rf_pipe_scale_smote,ada_pipe_scale_smote,xgb_pipe_scale_smote]:\n",
    "    model2.fit(X_train_preprocessed, y_train)"
   ]
  },
  {
   "cell_type": "code",
   "execution_count": 41,
   "id": "afac8eb6",
   "metadata": {},
   "outputs": [
    {
     "data": {
      "text/html": [
       "<div>\n",
       "<style scoped>\n",
       "    .dataframe tbody tr th:only-of-type {\n",
       "        vertical-align: middle;\n",
       "    }\n",
       "\n",
       "    .dataframe tbody tr th {\n",
       "        vertical-align: top;\n",
       "    }\n",
       "\n",
       "    .dataframe thead th {\n",
       "        text-align: right;\n",
       "    }\n",
       "</style>\n",
       "<table border=\"1\" class=\"dataframe\">\n",
       "  <thead>\n",
       "    <tr style=\"text-align: right;\">\n",
       "      <th></th>\n",
       "      <th>method</th>\n",
       "      <th>cv score</th>\n",
       "      <th>mean score</th>\n",
       "      <th>std score</th>\n",
       "      <th>recall score</th>\n",
       "    </tr>\n",
       "  </thead>\n",
       "  <tbody>\n",
       "    <tr>\n",
       "      <th>0</th>\n",
       "      <td>Logistic Regression</td>\n",
       "      <td>[0.81109, 0.79896, 0.7851, 0.79514, 0.81456]</td>\n",
       "      <td>0.800969</td>\n",
       "      <td>0.010744</td>\n",
       "      <td>0.783270</td>\n",
       "    </tr>\n",
       "    <tr>\n",
       "      <th>1</th>\n",
       "      <td>Decision Tree Classifier</td>\n",
       "      <td>[0.91334, 0.90641, 0.9948, 0.99306, 0.99307]</td>\n",
       "      <td>0.960136</td>\n",
       "      <td>0.041099</td>\n",
       "      <td>0.623574</td>\n",
       "    </tr>\n",
       "    <tr>\n",
       "      <th>2</th>\n",
       "      <td>KNN Classifier</td>\n",
       "      <td>[0.84055, 0.80936, 0.87522, 0.86806, 0.84402]</td>\n",
       "      <td>0.847441</td>\n",
       "      <td>0.023263</td>\n",
       "      <td>0.711027</td>\n",
       "    </tr>\n",
       "    <tr>\n",
       "      <th>3</th>\n",
       "      <td>Random Forest Classifier</td>\n",
       "      <td>[0.93588, 0.92894, 0.9948, 0.99653, 0.9948]</td>\n",
       "      <td>0.970189</td>\n",
       "      <td>0.030932</td>\n",
       "      <td>0.634981</td>\n",
       "    </tr>\n",
       "    <tr>\n",
       "      <th>4</th>\n",
       "      <td>Ada Boost Classifier</td>\n",
       "      <td>[0.81109, 0.80936, 0.80936, 0.80208, 0.82322]</td>\n",
       "      <td>0.811027</td>\n",
       "      <td>0.001481</td>\n",
       "      <td>0.825095</td>\n",
       "    </tr>\n",
       "    <tr>\n",
       "      <th>5</th>\n",
       "      <td>XGB Classifier</td>\n",
       "      <td>[0.90815, 0.89601, 0.95494, 0.94097, 0.96014]</td>\n",
       "      <td>0.932733</td>\n",
       "      <td>0.027409</td>\n",
       "      <td>0.673004</td>\n",
       "    </tr>\n",
       "  </tbody>\n",
       "</table>\n",
       "</div>"
      ],
      "text/plain": [
       "                     method                                       cv score  \\\n",
       "0       Logistic Regression   [0.81109, 0.79896, 0.7851, 0.79514, 0.81456]   \n",
       "1  Decision Tree Classifier   [0.91334, 0.90641, 0.9948, 0.99306, 0.99307]   \n",
       "2            KNN Classifier  [0.84055, 0.80936, 0.87522, 0.86806, 0.84402]   \n",
       "3  Random Forest Classifier    [0.93588, 0.92894, 0.9948, 0.99653, 0.9948]   \n",
       "4      Ada Boost Classifier  [0.81109, 0.80936, 0.80936, 0.80208, 0.82322]   \n",
       "5            XGB Classifier  [0.90815, 0.89601, 0.95494, 0.94097, 0.96014]   \n",
       "\n",
       "   mean score  std score  recall score  \n",
       "0    0.800969   0.010744      0.783270  \n",
       "1    0.960136   0.041099      0.623574  \n",
       "2    0.847441   0.023263      0.711027  \n",
       "3    0.970189   0.030932      0.634981  \n",
       "4    0.811027   0.001481      0.825095  \n",
       "5    0.932733   0.027409      0.673004  "
      ]
     },
     "execution_count": 41,
     "metadata": {},
     "output_type": "execute_result"
    }
   ],
   "source": [
    "score_cv = [logreg_scale_smote_cv.round(5), tree_scale_smote_cv.round(5), knn_pipe_smote_cv.round(5),\n",
    "            rf_pipe_smote_cv.round(5), ada_pipe_smote_cv.round(5), xgb_pipe_smote_cv.round(5)]\n",
    "score_mean = [logreg_scale_smote_cv.mean(), tree_scale_smote_cv.mean(), knn_pipe_smote_cv.mean(),\n",
    "              rf_pipe_smote_cv.mean(),ada_pipe_over_cv.mean(),xgb_pipe_over_cv.mean() ]\n",
    "score_std = [logreg_scale_smote_cv.std(), tree_scale_smote_cv.std(), knn_pipe_smote_cv.std(),\n",
    "             rf_pipe_smote_cv.std(),ada_pipe_over_cv.std(),xgb_pipe_over_cv.std()]\n",
    "score_recall_score = [recall_score(y_test, logreg_pipe_scale_smote.predict(X_test_preprocessed)),\n",
    "            recall_score(y_test, tree_pipe_scale_smote.predict(X_test_preprocessed)), \n",
    "            recall_score(y_test, knn_pipe_scale_smote.predict(X_test_preprocessed)), \n",
    "            recall_score(y_test, rf_pipe_scale_smote.predict(X_test_preprocessed)),\n",
    "            recall_score(y_test, ada_pipe_scale_smote.predict(X_test_preprocessed)),\n",
    "            recall_score(y_test, xgb_pipe_scale_smote.predict(X_test_preprocessed))]\n",
    "\n",
    "\n",
    "method_name = ['Logistic Regression', 'Decision Tree Classifier', 'KNN Classifier', 'Random Forest Classifier',\n",
    "               'Ada Boost Classifier', 'XGB Classifier']\n",
    "smote_summary = pd.DataFrame({\n",
    "    'method': method_name,\n",
    "    'cv score': score_cv,\n",
    "    'mean score': score_mean,\n",
    "    'std score': score_std,\n",
    "    'recall score': score_recall_score\n",
    "})\n",
    "smote_summary"
   ]
  },
  {
   "cell_type": "markdown",
   "id": "03138b00",
   "metadata": {},
   "source": [
    "KESIMPULAN AWAL\n",
    "\n",
    "Diketahui dari dua metode diatas, **Ada Boost Classifier** dengan metode **Random Oversampler** yang akan dipilih. Hal ini dikarenakan ia memiliki skor akurasi 81%, standar deviasi yang rendah 0,1 % dan juga memiliki nilai recall score (yang menjadi fokus utama evaluasi) lebih tinggi dari nilai metode klasifikasi lainnya yaitu 84%. Maka akan dipilih metode ini untuk dilanjutkan pada HyperParameter Tuning.\n",
    "\n",
    "Adaboost Classifier adalah salah satu metode ensemble yang bekerja untuk meningkatkan efisiensi pada klasifikasi biner pada awalnya. Kemudian melakukan pendekatan iteratif untuk belajar dari kesalahan dari weak classifier dan merubahnya menjadi strong classifier. Random State ditetapkan supaya nilainya tidak berubah"
   ]
  },
  {
   "cell_type": "code",
   "execution_count": 42,
   "id": "454a50cc",
   "metadata": {},
   "outputs": [],
   "source": [
    "ada_pipe = AdaBoostClassifier(random_state=2022)"
   ]
  },
  {
   "cell_type": "code",
   "execution_count": 43,
   "id": "1222d06a",
   "metadata": {},
   "outputs": [],
   "source": [
    "grid = dict()\n",
    "grid['n_estimators'] = [10, 50, 100, 500]\n",
    "grid['learning_rate'] = [0.0001, 0.001, 0.01, 0.1, 1.0]\n",
    "cv = RepeatedStratifiedKFold(n_splits=10, n_repeats=3, random_state=1)\n",
    "grid_search = GridSearchCV(estimator=ada_pipe, param_grid=grid, n_jobs=-1, cv=cv, scoring='recall')"
   ]
  },
  {
   "cell_type": "code",
   "execution_count": 44,
   "id": "d4fe8f59",
   "metadata": {},
   "outputs": [
    {
     "name": "stdout",
     "output_type": "stream",
     "text": [
      "Best: 0.979197 using {'learning_rate': 0.0001, 'n_estimators': 10}\n",
      "0.979197 (0.008150) with: {'learning_rate': 0.0001, 'n_estimators': 10}\n",
      "0.979197 (0.008150) with: {'learning_rate': 0.0001, 'n_estimators': 50}\n",
      "0.979197 (0.008150) with: {'learning_rate': 0.0001, 'n_estimators': 100}\n",
      "0.979197 (0.008150) with: {'learning_rate': 0.0001, 'n_estimators': 500}\n",
      "0.979197 (0.008150) with: {'learning_rate': 0.001, 'n_estimators': 10}\n",
      "0.979197 (0.008150) with: {'learning_rate': 0.001, 'n_estimators': 50}\n",
      "0.979197 (0.008150) with: {'learning_rate': 0.001, 'n_estimators': 100}\n",
      "0.906149 (0.016872) with: {'learning_rate': 0.001, 'n_estimators': 500}\n",
      "0.979197 (0.008150) with: {'learning_rate': 0.01, 'n_estimators': 10}\n",
      "0.906149 (0.016872) with: {'learning_rate': 0.01, 'n_estimators': 50}\n",
      "0.899908 (0.023198) with: {'learning_rate': 0.01, 'n_estimators': 100}\n",
      "0.824079 (0.027199) with: {'learning_rate': 0.01, 'n_estimators': 500}\n",
      "0.902794 (0.020356) with: {'learning_rate': 0.1, 'n_estimators': 10}\n",
      "0.823847 (0.026597) with: {'learning_rate': 0.1, 'n_estimators': 50}\n",
      "0.813560 (0.023711) with: {'learning_rate': 0.1, 'n_estimators': 100}\n",
      "0.820965 (0.025741) with: {'learning_rate': 0.1, 'n_estimators': 500}\n",
      "0.791938 (0.033739) with: {'learning_rate': 1.0, 'n_estimators': 10}\n",
      "0.818768 (0.024951) with: {'learning_rate': 1.0, 'n_estimators': 50}\n",
      "0.816913 (0.024695) with: {'learning_rate': 1.0, 'n_estimators': 100}\n",
      "0.820725 (0.025648) with: {'learning_rate': 1.0, 'n_estimators': 500}\n"
     ]
    }
   ],
   "source": [
    "#kita menggunakan nilai x dan y yang telah dilakukan oversampling sehingga menggunakan variabel X_over dan y_over \n",
    "grid_result = grid_search.fit(X_over, y_over)\n",
    "print(\"Best: %f using %s\" % (grid_result.best_score_, grid_result.best_params_))\n",
    "means = grid_result.cv_results_['mean_test_score']\n",
    "stds = grid_result.cv_results_['std_test_score']\n",
    "params = grid_result.cv_results_['params']\n",
    "for mean, stdev, param in zip(means, stds, params):\n",
    "    print(\"%f (%f) with: %r\" % (mean, stdev, param))"
   ]
  },
  {
   "cell_type": "code",
   "execution_count": 45,
   "id": "ec252419",
   "metadata": {},
   "outputs": [
    {
     "data": {
      "text/plain": [
       "AdaBoostClassifier(learning_rate=0.0001, n_estimators=10, random_state=2022)"
      ]
     },
     "execution_count": 45,
     "metadata": {},
     "output_type": "execute_result"
    }
   ],
   "source": [
    "best_model_recall = grid_search.best_estimator_\n",
    "best_model_recall.fit(X_over, y_over)"
   ]
  },
  {
   "cell_type": "code",
   "execution_count": 46,
   "id": "f1a96b92",
   "metadata": {},
   "outputs": [],
   "source": [
    "\n",
    "grid = dict()\n",
    "grid['n_estimators'] = [10, 50, 100, 500]\n",
    "grid['learning_rate'] = [0.0001, 0.001, 0.01, 0.1, 1.0]\n",
    "cv = RepeatedStratifiedKFold(n_splits=10, n_repeats=3, random_state=1)\n",
    "grid_search = GridSearchCV(estimator=ada_pipe, param_grid=grid, n_jobs=-1, cv=cv, scoring='accuracy')"
   ]
  },
  {
   "cell_type": "code",
   "execution_count": 47,
   "id": "55b33269",
   "metadata": {},
   "outputs": [
    {
     "name": "stdout",
     "output_type": "stream",
     "text": [
      "Best: 0.776638 using {'learning_rate': 1.0, 'n_estimators': 500}\n",
      "0.645456 (0.010425) with: {'learning_rate': 0.0001, 'n_estimators': 10}\n",
      "0.645456 (0.010425) with: {'learning_rate': 0.0001, 'n_estimators': 50}\n",
      "0.645456 (0.010425) with: {'learning_rate': 0.0001, 'n_estimators': 100}\n",
      "0.645456 (0.010425) with: {'learning_rate': 0.0001, 'n_estimators': 500}\n",
      "0.645456 (0.010425) with: {'learning_rate': 0.001, 'n_estimators': 10}\n",
      "0.645456 (0.010425) with: {'learning_rate': 0.001, 'n_estimators': 50}\n",
      "0.645456 (0.010425) with: {'learning_rate': 0.001, 'n_estimators': 100}\n",
      "0.726131 (0.013687) with: {'learning_rate': 0.001, 'n_estimators': 500}\n",
      "0.645456 (0.010425) with: {'learning_rate': 0.01, 'n_estimators': 10}\n",
      "0.726131 (0.013687) with: {'learning_rate': 0.01, 'n_estimators': 50}\n",
      "0.727517 (0.013874) with: {'learning_rate': 0.01, 'n_estimators': 100}\n",
      "0.764849 (0.018835) with: {'learning_rate': 0.01, 'n_estimators': 500}\n",
      "0.727171 (0.014039) with: {'learning_rate': 0.1, 'n_estimators': 10}\n",
      "0.765195 (0.017631) with: {'learning_rate': 0.1, 'n_estimators': 50}\n",
      "0.766756 (0.016617) with: {'learning_rate': 0.1, 'n_estimators': 100}\n",
      "0.771842 (0.019016) with: {'learning_rate': 0.1, 'n_estimators': 500}\n",
      "0.758317 (0.017888) with: {'learning_rate': 1.0, 'n_estimators': 10}\n",
      "0.769124 (0.016379) with: {'learning_rate': 1.0, 'n_estimators': 50}\n",
      "0.770454 (0.016768) with: {'learning_rate': 1.0, 'n_estimators': 100}\n",
      "0.776638 (0.019879) with: {'learning_rate': 1.0, 'n_estimators': 500}\n"
     ]
    }
   ],
   "source": [
    "#kita menggunakan nilai x dan y yang telah dilakukan oversampling sehingga menggunakan variabel X_over dan y_over \n",
    "grid_result = grid_search.fit(X_over, y_over)\n",
    "print(\"Best: %f using %s\" % (grid_result.best_score_, grid_result.best_params_))\n",
    "means = grid_result.cv_results_['mean_test_score']\n",
    "stds = grid_result.cv_results_['std_test_score']\n",
    "params = grid_result.cv_results_['params']\n",
    "for mean, stdev, param in zip(means, stds, params):\n",
    "    print(\"%f (%f) with: %r\" % (mean, stdev, param))"
   ]
  },
  {
   "cell_type": "markdown",
   "id": "b8347357",
   "metadata": {},
   "source": [
    "Hyperparameter terbaik hasil dari Gridsearch adalah *learning rate*=1 dan *n_estimator*=500"
   ]
  },
  {
   "cell_type": "code",
   "execution_count": 48,
   "id": "73b9df21",
   "metadata": {},
   "outputs": [
    {
     "name": "stdout",
     "output_type": "stream",
     "text": [
      "0.7766376211566854\n",
      "{'learning_rate': 1.0, 'n_estimators': 500}\n"
     ]
    }
   ],
   "source": [
    "print(grid_search.best_score_)\n",
    "print(grid_search.best_params_)"
   ]
  },
  {
   "cell_type": "code",
   "execution_count": 49,
   "id": "c008d9b3",
   "metadata": {},
   "outputs": [
    {
     "data": {
      "text/plain": [
       "AdaBoostClassifier(n_estimators=500, random_state=2022)"
      ]
     },
     "execution_count": 49,
     "metadata": {},
     "output_type": "execute_result"
    }
   ],
   "source": [
    "best_model = grid_search.best_estimator_\n",
    "best_model.fit(X_over, y_over)\n",
    "#RandomOversampler dan Encoding telah dijalankan pada data X_train dan y_train"
   ]
  },
  {
   "cell_type": "code",
   "execution_count": 50,
   "id": "5e56ba01",
   "metadata": {},
   "outputs": [
    {
     "data": {
      "text/plain": [
       "Pipeline(steps=[('oversampling', RandomOverSampler(random_state=2727)),\n",
       "                ('model', AdaBoostClassifier(random_state=2022))])"
      ]
     },
     "execution_count": 50,
     "metadata": {},
     "output_type": "execute_result"
    }
   ],
   "source": [
    "estimator=Pipeline([\n",
    "    ('oversampling',ros),\n",
    "    ('model',ada_pipe)\n",
    "])\n",
    "estimator.fit(X_train_preprocessed, y_train)"
   ]
  },
  {
   "cell_type": "code",
   "execution_count": 51,
   "id": "39a3b6e0",
   "metadata": {},
   "outputs": [],
   "source": [
    "y_pred_default = estimator.predict(X_test_preprocessed)\n",
    "y_pred_tuned_accuracy = best_model.predict(X_test_preprocessed)\n",
    "y_pred_tuned_recall = best_model_recall.predict(X_test_preprocessed)"
   ]
  },
  {
   "cell_type": "code",
   "execution_count": 52,
   "id": "8149c719",
   "metadata": {},
   "outputs": [],
   "source": [
    "report_default = classification_report(y_test, y_pred_default)\n",
    "report_tuned_accuracy = classification_report(y_test, y_pred_tuned_accuracy)\n",
    "report_tuned_recall = classification_report(y_test, y_pred_tuned_recall)"
   ]
  },
  {
   "cell_type": "code",
   "execution_count": 53,
   "id": "c9e125dc",
   "metadata": {},
   "outputs": [
    {
     "name": "stdout",
     "output_type": "stream",
     "text": [
      "Classification Report Default Adaboost : \n",
      "               precision    recall  f1-score   support\n",
      "\n",
      "           0       0.93      0.70      0.80       722\n",
      "           1       0.51      0.85      0.64       263\n",
      "\n",
      "    accuracy                           0.74       985\n",
      "   macro avg       0.72      0.77      0.72       985\n",
      "weighted avg       0.81      0.74      0.75       985\n",
      "\n",
      "Classification Report Tuned Accuracy Adaboost : \n",
      "               precision    recall  f1-score   support\n",
      "\n",
      "           0       0.91      0.72      0.80       722\n",
      "           1       0.51      0.81      0.63       263\n",
      "\n",
      "    accuracy                           0.74       985\n",
      "   macro avg       0.71      0.77      0.72       985\n",
      "weighted avg       0.81      0.74      0.76       985\n",
      "\n",
      "Classification Report Tuned Recall Adaboost : \n",
      "               precision    recall  f1-score   support\n",
      "\n",
      "           0       0.97      0.30      0.46       722\n",
      "           1       0.34      0.97      0.50       263\n",
      "\n",
      "    accuracy                           0.48       985\n",
      "   macro avg       0.65      0.64      0.48       985\n",
      "weighted avg       0.80      0.48      0.47       985\n",
      "\n"
     ]
    }
   ],
   "source": [
    "print('Classification Report Default Adaboost : \\n', report_default)\n",
    "print('Classification Report Tuned Accuracy Adaboost : \\n', report_tuned_accuracy)\n",
    "print('Classification Report Tuned Recall Adaboost : \\n', report_tuned_recall)"
   ]
  },
  {
   "cell_type": "markdown",
   "id": "567a4962",
   "metadata": {},
   "source": [
    "Kembali lagi, terlihat bahwa nilai Default memiliki nilai Recall dan Akurasi lebih tinggi dibandingkan nilai yang telah dilakukan Hyperparameter Tuning secara recall maupun accuracy. Diketahui bahwa pada classification report ke tiga, recall mampu mendeteksi 97% false negative. Tetapi akurasinya sangat rendah, yakni hanya 48%. Hal ini membuat nilai hyperparameter tuning dengan recall tidak layak untuk dijadikan model akhir. Oleh karena itu, kita akan menggunakan nilai default saja sebagai model akhir kita.\n",
    "Sekali lagi karena yang ditekankan adalah nilai recall maka kita akan memilih model default sebagai model akhir kita."
   ]
  },
  {
   "cell_type": "markdown",
   "id": "f990f35f",
   "metadata": {},
   "source": [
    "## Feature Importance"
   ]
  },
  {
   "cell_type": "code",
   "execution_count": 54,
   "id": "4a19fb9e",
   "metadata": {},
   "outputs": [
    {
     "data": {
      "image/png": "[encoded data removed]",
      "text/plain": [
       "<Figure size 432x288 with 1 Axes>"
      ]
     },
     "metadata": {
      "needs_background": "light"
     },
     "output_type": "display_data"
    }
   ],
   "source": [
    "coef1 = pd.Series(estimator['model'].feature_importances_, transformer.get_feature_names()).sort_values(ascending = False).head(10)\n",
    "coef1.plot(kind='barh', title='Feature Importances')\n",
    "plt.show()"
   ]
  },
  {
   "cell_type": "markdown",
   "id": "21eee2a8",
   "metadata": {},
   "source": [
    "Tampak dari grafik feature importance diketahui bahwa Biaya Bulanan atau Monthly Charges sangat mempengaruhi produksi hasil klasifikasi kita. Selain itu jumlah bulan berlangganan atau tenure juga mempengaruhi apakah customer akan churn atau tidak.\n",
    "Sedangkan Paperless Billing dan Dependents tidak terlalu mempengaruhi klasifikasi. Sehingga kedepannya mungkin dapat dihapus."
   ]
  },
  {
   "cell_type": "markdown",
   "id": "24d65ccc",
   "metadata": {},
   "source": [
    "# Kesimpulan dan Rekomendasi"
   ]
  },
  {
   "cell_type": "code",
   "execution_count": 55,
   "id": "b78cf108",
   "metadata": {},
   "outputs": [
    {
     "name": "stdout",
     "output_type": "stream",
     "text": [
      "Classification Report Default Adaboost : \n",
      "               precision    recall  f1-score   support\n",
      "\n",
      "           0       0.93      0.70      0.80       722\n",
      "           1       0.51      0.85      0.64       263\n",
      "\n",
      "    accuracy                           0.74       985\n",
      "   macro avg       0.72      0.77      0.72       985\n",
      "weighted avg       0.81      0.74      0.75       985\n",
      "\n"
     ]
    }
   ],
   "source": [
    "print('Classification Report Default Adaboost : \\n', report_default)"
   ]
  },
  {
   "cell_type": "markdown",
   "id": "8d2eae64",
   "metadata": {},
   "source": [
    "Berdasarkan hasil classification report, kita dapat menyimpulkan bahwa bila seandainya nanti kita menggunakan model kita untuk menyaring customer yang akan melakukan churn atau tidak, maka model kita dapat mengurangi 71% customer yang tidak melakukan churn, dan model kita dapat mendapatkan 84% customer yang akan melakukan churn. (semua ini berdasarkan recallnya)\n",
    "\n",
    "Model kita pun memiliki presisi untuk customer yang tidak melakukan churn sebesar 92%. Dan akurasi keseluruhan 75%. Namun memiliki presisi yang kurang baik untuk customer yang melakukan churn, yakni hanya sebesar 52%.\n",
    "\n",
    "**Recommendation**\n",
    "\n",
    "Hal yang bisa dilakukan untuk mengembangkan proyek lebih baik lagi adalah:\n",
    "  - Menambahkan parameter pada hypertuning parameter sehingga akan didapatkan model lebih baik lagi.\n",
    "  - Melakukan feature selection untuk mengurangi atau melakukan feature engineering untuk menambah fitur.\n",
    "  - Membuat kebijakan baru pada tagihan bulanan apabila telah melebihi tenure setahun atau dua tahun akan mendapatkan penawaran khusus."
   ]
  },
  {
   "cell_type": "markdown",
   "id": "b61e3e0b",
   "metadata": {},
   "source": [
    "## Saving File"
   ]
  },
  {
   "cell_type": "code",
   "execution_count": 56,
   "id": "317bc179",
   "metadata": {},
   "outputs": [],
   "source": [
    "import pickle\n",
    "filename = 'finalized_model.sav'\n",
    "pickle.dump(estimator, open(filename, 'wb'))"
   ]
  },
  {
   "cell_type": "code",
   "execution_count": 57,
   "id": "86757a58",
   "metadata": {},
   "outputs": [
    {
     "name": "stdout",
     "output_type": "stream",
     "text": [
      "0.7401015228426396\n"
     ]
    }
   ],
   "source": [
    "loaded_model = pickle.load(open(filename, 'rb'))\n",
    "result = loaded_model.score(X_test_preprocessed, y_test)\n",
    "print(result)"
   ]
  },
  {
   "cell_type": "markdown",
   "id": "0e2b6c05",
   "metadata": {},
   "source": [
    "# Sekian dan Terimakasih"
   ]
  },
  {
   "cell_type": "code",
   "execution_count": null,
   "id": "95e5dd3d",
   "metadata": {},
   "outputs": [],
   "source": []
  }
 ],
 "metadata": {
  "kernelspec": {
   "display_name": "Python 3 (ipykernel)",
   "language": "python",
   "name": "python3"
  },
  "language_info": {
   "codemirror_mode": {
    "name": "ipython",
    "version": 3
   },
   "file_extension": ".py",
   "mimetype": "text/x-python",
   "name": "python",
   "nbconvert_exporter": "python",
   "pygments_lexer": "ipython3",
   "version": "3.9.7"
  }
 },
 "nbformat": 4,
 "nbformat_minor": 5
}
